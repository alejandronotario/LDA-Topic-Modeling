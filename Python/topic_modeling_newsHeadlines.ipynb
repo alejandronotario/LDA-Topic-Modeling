{
 "cells": [
  {
   "cell_type": "markdown",
   "metadata": {},
   "source": [
    "# LDA TOPIC MODELING \n",
    "\n",
    "This notebook applies LDA modeling to a dataset from a Kaggle dataset of news headlines:\n",
    "\n",
    "https://www.kaggle.com/therohk/million-headlines\n",
    "\n",
    "using GENSIM toolkit:\n",
    "\n",
    "https://radimrehurek.com/gensim/\n",
    "\n",
    "and following a really useful tutorial from machinelearningplus website:\n",
    "\n",
    "https://www.machinelearningplus.com/nlp/topic-modeling-gensim-python/\n",
    "\n"
   ]
  },
  {
   "cell_type": "markdown",
   "metadata": {},
   "source": [
    "__Steps__\n",
    "\n",
    "- Text porcessing\n",
    "- Bulding the model"
   ]
  },
  {
   "cell_type": "markdown",
   "metadata": {},
   "source": [
    "__Other interesting links:__\n",
    "\n",
    "- https://en.wikipedia.org/wiki/Latent_Dirichlet_allocation\n",
    "\n",
    "- https://www.analyticsvidhya.com/blog/2016/08/beginners-guide-to-topic-modeling-in-python/\n",
    "\n",
    "- https://medium.com/@lettier/how-does-lda-work-ill-explain-using-emoji-108abf40fa7d\n",
    "\n",
    "- https://stackoverflow.com/questions/20984841/topic-distribution-how-do-we-see-which-document-belong-to-which-topic-after-doi\n",
    "\n",
    "- https://datascienceplus.com/evaluation-of-topic-modeling-topic-coherence/"
   ]
  },
  {
   "cell_type": "markdown",
   "metadata": {},
   "source": [
    "__Required Libraries__"
   ]
  },
  {
   "cell_type": "code",
   "execution_count": 1,
   "metadata": {},
   "outputs": [],
   "source": [
    "import pandas as pd\n",
    "import numpy as np\n",
    "\n",
    "\n",
    "import string\n",
    "import re\n",
    "from pprint import pprint\n",
    "\n",
    "# NLTK \n",
    "from nltk.corpus import stopwords\n",
    "from nltk.stem.wordnet import WordNetLemmatizer\n",
    "from nltk.corpus import stopwords\n",
    "stop_words = stopwords.words('english') #this depends on each language\n",
    "\n",
    "# Gensim\n",
    "import gensim\n",
    "import gensim.corpora as corpora\n",
    "from gensim.utils import simple_preprocess\n",
    "from gensim.models import CoherenceModel\n",
    "\n",
    "# spacy for lemmatization\n",
    "import spacy\n",
    "\n",
    "# Plotting tools\n",
    "import pyLDAvis\n",
    "import pyLDAvis.gensim  \n",
    "import matplotlib.pyplot as plt\n",
    "%matplotlib inline\n",
    "\n",
    "# Enable logging for gensim - optional\n",
    "import logging\n",
    "logging.basicConfig(format='%(asctime)s : %(levelname)s : %(message)s', level=logging.ERROR)\n",
    "\n",
    "import warnings\n",
    "warnings.filterwarnings(\"ignore\",category=DeprecationWarning)"
   ]
  },
  {
   "cell_type": "markdown",
   "metadata": {},
   "source": [
    "__Loading data__"
   ]
  },
  {
   "cell_type": "code",
   "execution_count": 2,
   "metadata": {},
   "outputs": [],
   "source": [
    "df=pd.read_csv('./abcnews-date-text.csv',sep=',')"
   ]
  },
  {
   "cell_type": "code",
   "execution_count": 3,
   "metadata": {},
   "outputs": [
    {
     "data": {
      "text/plain": [
       "1103665"
      ]
     },
     "execution_count": 3,
     "metadata": {},
     "output_type": "execute_result"
    }
   ],
   "source": [
    "df.shape[0]"
   ]
  },
  {
   "cell_type": "code",
   "execution_count": 4,
   "metadata": {},
   "outputs": [
    {
     "data": {
      "text/html": [
       "<div>\n",
       "<style scoped>\n",
       "    .dataframe tbody tr th:only-of-type {\n",
       "        vertical-align: middle;\n",
       "    }\n",
       "\n",
       "    .dataframe tbody tr th {\n",
       "        vertical-align: top;\n",
       "    }\n",
       "\n",
       "    .dataframe thead th {\n",
       "        text-align: right;\n",
       "    }\n",
       "</style>\n",
       "<table border=\"1\" class=\"dataframe\">\n",
       "  <thead>\n",
       "    <tr style=\"text-align: right;\">\n",
       "      <th></th>\n",
       "      <th>publish_date</th>\n",
       "      <th>headline_text</th>\n",
       "    </tr>\n",
       "  </thead>\n",
       "  <tbody>\n",
       "    <tr>\n",
       "      <th>0</th>\n",
       "      <td>20030219</td>\n",
       "      <td>aba decides against community broadcasting lic...</td>\n",
       "    </tr>\n",
       "  </tbody>\n",
       "</table>\n",
       "</div>"
      ],
      "text/plain": [
       "   publish_date                                      headline_text\n",
       "0      20030219  aba decides against community broadcasting lic..."
      ]
     },
     "execution_count": 4,
     "metadata": {},
     "output_type": "execute_result"
    }
   ],
   "source": [
    "df.head(1)"
   ]
  },
  {
   "cell_type": "code",
   "execution_count": 5,
   "metadata": {},
   "outputs": [],
   "source": [
    "data=df['headline_text'].values.tolist()"
   ]
  },
  {
   "cell_type": "code",
   "execution_count": 6,
   "metadata": {},
   "outputs": [
    {
     "name": "stdout",
     "output_type": "stream",
     "text": [
      "['aba decides against community broadcasting licence']\n"
     ]
    }
   ],
   "source": [
    "pprint(data[:1])"
   ]
  },
  {
   "cell_type": "markdown",
   "metadata": {},
   "source": [
    "__Tokenize words and Clean-up text__"
   ]
  },
  {
   "cell_type": "code",
   "execution_count": 7,
   "metadata": {},
   "outputs": [
    {
     "name": "stdout",
     "output_type": "stream",
     "text": [
      "[['aba', 'decides', 'against', 'community', 'broadcasting', 'licence']]\n"
     ]
    }
   ],
   "source": [
    "def sent_to_words(sentences):\n",
    "    for sentence in sentences:\n",
    "        yield(gensim.utils.simple_preprocess(str(sentence), deacc=True))  # deacc=True removes punctuations\n",
    "\n",
    "data_words = list(sent_to_words(data))\n",
    "\n",
    "print(data_words[:1])"
   ]
  },
  {
   "cell_type": "markdown",
   "metadata": {},
   "source": [
    "__Bigrams & Trigrams__\n",
    "\n",
    "Bigrams are two words frequently occurring together in the document. Trigrams are 3 words frequently occurring."
   ]
  },
  {
   "cell_type": "code",
   "execution_count": 8,
   "metadata": {},
   "outputs": [
    {
     "name": "stderr",
     "output_type": "stream",
     "text": [
      "/home/anotario/anaconda2/envs/EI_python36/lib/python3.6/site-packages/gensim/models/phrases.py:598: UserWarning: For a faster implementation, use the gensim.models.phrases.Phraser class\n",
      "  warnings.warn(\"For a faster implementation, use the gensim.models.phrases.Phraser class\")\n"
     ]
    },
    {
     "name": "stdout",
     "output_type": "stream",
     "text": [
      "['aba', 'decides', 'against', 'community', 'broadcasting', 'licence']\n"
     ]
    }
   ],
   "source": [
    "# Build the bigram and trigram models\n",
    "bigram = gensim.models.Phrases(data_words, min_count=5, threshold=100) # higher threshold fewer phrases.\n",
    "trigram = gensim.models.Phrases(bigram[data_words], threshold=100)  \n",
    "\n",
    "# Faster way to get a sentence clubbed as a trigram/bigram\n",
    "bigram_mod = gensim.models.phrases.Phraser(bigram)\n",
    "trigram_mod = gensim.models.phrases.Phraser(trigram)\n",
    "\n",
    "# See trigram example\n",
    "print(trigram_mod[bigram_mod[data_words[0]]])"
   ]
  },
  {
   "cell_type": "markdown",
   "metadata": {},
   "source": [
    "__Remove Stopwords, Make Bigrams and Lemmatize__"
   ]
  },
  {
   "cell_type": "code",
   "execution_count": 9,
   "metadata": {},
   "outputs": [],
   "source": [
    "# Define functions for stopwords, bigrams, trigrams and lemmatization\n",
    "def remove_stopwords(texts):\n",
    "    return [[word for word in simple_preprocess(str(doc)) if word not in stop_words] for doc in texts]\n",
    "\n",
    "def make_bigrams(texts):\n",
    "    return [bigram_mod[doc] for doc in texts]\n",
    "\n",
    "def make_trigrams(texts):\n",
    "    return [trigram_mod[bigram_mod[doc]] for doc in texts]\n",
    "\n",
    "def lemmatization(texts, allowed_postags=['NOUN', 'ADJ', 'VERB', 'ADV']):\n",
    "    \"\"\"https://spacy.io/api/annotation\"\"\"\n",
    "    texts_out = []\n",
    "    for sent in texts:\n",
    "        doc = nlp(\" \".join(sent)) \n",
    "        texts_out.append([token.lemma_ for token in doc if token.pos_ in allowed_postags])\n",
    "    return texts_out"
   ]
  },
  {
   "cell_type": "markdown",
   "metadata": {},
   "source": [
    "__Let’s call the functions in order__"
   ]
  },
  {
   "cell_type": "code",
   "execution_count": 10,
   "metadata": {},
   "outputs": [
    {
     "name": "stdout",
     "output_type": "stream",
     "text": [
      "[['aba', 'decide', 'community', 'broadcasting', 'licence']]\n"
     ]
    }
   ],
   "source": [
    "#To run this code it is necessary to get the spacy moidel: \"!python - m spacy download en\", last depends on the used language \n",
    "\n",
    "# Remove Stop Words\n",
    "data_words_nostops = remove_stopwords(data_words)\n",
    "\n",
    "# Form Bigrams\n",
    "data_words_bigrams = make_bigrams(data_words_nostops)\n",
    "\n",
    "# Initialize spacy 'es' model, keeping only tagger component (for efficiency)\n",
    "# python3 -m spacy download es\n",
    "nlp = spacy.load('en', disable=['parser', 'ner'])\n",
    "\n",
    "# Do lemmatization keeping only noun, adj, vb, adv\n",
    "data_lemmatized = lemmatization(data_words_bigrams, allowed_postags=['NOUN', 'ADJ', 'VERB', 'ADV'])\n",
    "\n",
    "print(data_lemmatized[:1])"
   ]
  },
  {
   "cell_type": "markdown",
   "metadata": {},
   "source": [
    "__Create the Dictionary and Corpus needed for Topic Modeling__"
   ]
  },
  {
   "cell_type": "code",
   "execution_count": 11,
   "metadata": {},
   "outputs": [
    {
     "name": "stdout",
     "output_type": "stream",
     "text": [
      "[[(0, 1), (1, 1), (2, 1), (3, 1), (4, 1)]]\n"
     ]
    }
   ],
   "source": [
    "# Create Dictionary\n",
    "id2word = corpora.Dictionary(data_lemmatized)\n",
    "\n",
    "# Create Corpus\n",
    "texts = data_lemmatized\n",
    "\n",
    "# Term Document Frequency\n",
    "corpus = [id2word.doc2bow(text) for text in texts]\n",
    "\n",
    "# View\n",
    "print(corpus[:1])"
   ]
  },
  {
   "cell_type": "markdown",
   "metadata": {},
   "source": [
    "If you want to see what word a given id corresponds to, pass the id as a key to the dictionary"
   ]
  },
  {
   "cell_type": "code",
   "execution_count": 12,
   "metadata": {},
   "outputs": [
    {
     "data": {
      "text/plain": [
       "'aba'"
      ]
     },
     "execution_count": 12,
     "metadata": {},
     "output_type": "execute_result"
    }
   ],
   "source": [
    "id2word[0]"
   ]
  },
  {
   "cell_type": "markdown",
   "metadata": {},
   "source": [
    "Or, you can see a human-readable form of the corpus itself."
   ]
  },
  {
   "cell_type": "code",
   "execution_count": 13,
   "metadata": {},
   "outputs": [
    {
     "data": {
      "text/plain": [
       "[[('aba', 1),\n",
       "  ('broadcasting', 1),\n",
       "  ('community', 1),\n",
       "  ('decide', 1),\n",
       "  ('licence', 1)],\n",
       " [('act', 1),\n",
       "  ('aware', 1),\n",
       "  ('defamation', 1),\n",
       "  ('fire', 1),\n",
       "  ('must', 1),\n",
       "  ('witness', 1)]]"
      ]
     },
     "execution_count": 13,
     "metadata": {},
     "output_type": "execute_result"
    }
   ],
   "source": [
    "# Human readable format of corpus (term-frequency)\n",
    "[[(id2word[id], freq) for id, freq in cp] for cp in corpus[:2]]"
   ]
  },
  {
   "cell_type": "markdown",
   "metadata": {},
   "source": [
    "__Building the Topic Model__"
   ]
  },
  {
   "cell_type": "code",
   "execution_count": 14,
   "metadata": {},
   "outputs": [],
   "source": [
    "# Build LDA model\n",
    "lda_model = gensim.models.ldamodel.LdaModel(corpus=corpus,\n",
    "                                           id2word=id2word,\n",
    "                                           num_topics=20, \n",
    "                                           random_state=100,\n",
    "                                           update_every=1,\n",
    "                                           chunksize=100,\n",
    "                                           passes=4,\n",
    "                                           alpha='auto',\n",
    "                                           per_word_topics=True)"
   ]
  },
  {
   "cell_type": "markdown",
   "metadata": {},
   "source": [
    "__View the topics in LDA model__"
   ]
  },
  {
   "cell_type": "code",
   "execution_count": 15,
   "metadata": {
    "scrolled": true
   },
   "outputs": [
    {
     "name": "stdout",
     "output_type": "stream",
     "text": [
      "[(0,\n",
      "  '0.052*\"ash\" + 0.048*\"die\" + 0.031*\"work\" + 0.031*\"north_korea\" + '\n",
      "  '0.028*\"rise\" + 0.020*\"announce\" + 0.020*\"break\" + 0.016*\"food\" + '\n",
      "  '0.015*\"continue\" + 0.014*\"threat\"'),\n",
      " (1,\n",
      "  '0.059*\"child\" + 0.035*\"use\" + 0.028*\"young\" + 0.022*\"story\" + 0.022*\"hold\" '\n",
      "  '+ 0.018*\"fear\" + 0.018*\"cricket\" + 0.016*\"debate\" + 0.015*\"pm\" + '\n",
      "  '0.014*\"crisis\"'),\n",
      " (2,\n",
      "  '0.059*\"woman\" + 0.057*\"queensland\" + 0.055*\"election\" + '\n",
      "  '0.039*\"sex_marriage\" + 0.033*\"adelaide\" + 0.029*\"people\" + 0.019*\"road\" + '\n",
      "  '0.019*\"force\" + 0.017*\"community\" + 0.015*\"push\"'),\n",
      " (3,\n",
      "  '0.050*\"test\" + 0.034*\"south\" + 0.033*\"labor\" + 0.030*\"house\" + 0.027*\"go\" + '\n",
      "  '0.026*\"tell\" + 0.025*\"claim\" + 0.024*\"city\" + 0.023*\"pay\" + 0.019*\"week\"'),\n",
      " (4,\n",
      "  '0.049*\"find\" + 0.047*\"death\" + 0.045*\"fire\" + 0.036*\"perth\" + '\n",
      "  '0.030*\"former\" + 0.027*\"miss\" + 0.019*\"search\" + 0.016*\"baby\" + '\n",
      "  '0.015*\"history\" + 0.014*\"mother\"'),\n",
      " (5,\n",
      "  '0.050*\"take\" + 0.036*\"open\" + 0.031*\"north\" + 0.026*\"victoria\" + '\n",
      "  '0.026*\"west\" + 0.025*\"bill\" + 0.025*\"council\" + 0.020*\"group\" + '\n",
      "  '0.019*\"meet\" + 0.016*\"art\"'),\n",
      " (6,\n",
      "  '0.064*\"government\" + 0.034*\"arrest\" + 0.031*\"jail\" + 0.028*\"hobart\" + '\n",
      "  '0.027*\"sentence\" + 0.021*\"health\" + 0.018*\"market\" + 0.018*\"women\" + '\n",
      "  '0.017*\"fail\" + 0.016*\"news\"'),\n",
      " (7,\n",
      "  '0.042*\"melbourne\" + 0.033*\"make\" + 0.030*\"not\" + 0.029*\"family\" + '\n",
      "  '0.023*\"indigenous\" + 0.019*\"fight\" + 0.017*\"want\" + 0.017*\"job\" + '\n",
      "  '0.016*\"abuse\" + 0.015*\"worker\"'),\n",
      " (8,\n",
      "  '0.042*\"nt\" + 0.031*\"leave\" + 0.028*\"lose\" + 0.026*\"video\" + '\n",
      "  '0.025*\"citizenship\" + 0.022*\"turnbull\" + 0.021*\"battle\" + '\n",
      "  '0.016*\"wall_street\" + 0.016*\"old\" + 0.014*\"sea\"'),\n",
      " (9,\n",
      "  '0.075*\"sydney\" + 0.063*\"trump\" + 0.035*\"china\" + 0.022*\"move\" + '\n",
      "  '0.017*\"russia\" + 0.014*\"investigate\" + 0.012*\"park\" + 0.012*\"cost\" + '\n",
      "  '0.012*\"son\" + 0.012*\"try\"'),\n",
      " (10,\n",
      "  '0.096*\"australian\" + 0.066*\"court\" + 0.041*\"high\" + 0.040*\"face\" + '\n",
      "  '0.033*\"accuse\" + 0.022*\"price\" + 0.021*\"give\" + 0.014*\"town\" + '\n",
      "  '0.013*\"company\" + 0.011*\"survivor\"'),\n",
      " (11,\n",
      "  '0.034*\"power\" + 0.033*\"ban\" + 0.025*\"need\" + 0.025*\"water\" + '\n",
      "  '0.021*\"socceroo\" + 0.021*\"dog\" + 0.018*\"save\" + 0.017*\"regional\" + '\n",
      "  '0.013*\"last\" + 0.013*\"boost\"'),\n",
      " (12,\n",
      "  '0.140*\"australia\" + 0.050*\"could\" + 0.036*\"plan\" + 0.026*\"leader\" + '\n",
      "  '0.023*\"aboriginal\" + 0.020*\"chinese\" + 0.016*\"defend\" + 0.013*\"political\" + '\n",
      "  '0.012*\"raid\" + 0.011*\"artist\"'),\n",
      " (13,\n",
      "  '0.044*\"say\" + 0.037*\"new\" + 0.016*\"world\" + 0.015*\"day\" + 0.014*\"first\" + '\n",
      "  '0.013*\"kill\" + 0.013*\"get\" + 0.013*\"hit\" + 0.012*\"show\" + 0.010*\"car\"'),\n",
      " (14,\n",
      "  '0.106*\"man\" + 0.058*\"call\" + 0.056*\"charge\" + 0.042*\"murder\" + 0.033*\"help\" '\n",
      "  '+ 0.029*\"life\" + 0.027*\"qld\" + 0.024*\"record\" + 0.024*\"deal\" + '\n",
      "  '0.017*\"urge\"'),\n",
      " (15,\n",
      "  '0.057*\"nsw\" + 0.044*\"attack\" + 0.037*\"report\" + 0.034*\"christma\" + '\n",
      "  '0.030*\"big\" + 0.024*\"national\" + 0.024*\"drug\" + 0.020*\"royal_commission\" + '\n",
      "  '0.020*\"league\" + 0.018*\"final\"'),\n",
      " (16,\n",
      "  '0.092*\"police\" + 0.022*\"shoot\" + 0.022*\"end\" + 0.022*\"tasmania\" + '\n",
      "  '0.021*\"interview\" + 0.020*\"service\" + 0.015*\"station\" + 0.014*\"green\" + '\n",
      "  '0.014*\"beat\" + 0.013*\"right\"'),\n",
      " (17,\n",
      "  '0.062*\"win\" + 0.034*\"cup\" + 0.026*\"lead\" + 0.019*\"refugee\" + 0.019*\"play\" + '\n",
      "  '0.019*\"game\" + 0.018*\"risk\" + 0.017*\"share\" + 0.015*\"india\" + '\n",
      "  '0.014*\"youth\"'),\n",
      " (18,\n",
      "  '0.043*\"school\" + 0.040*\"crash\" + 0.037*\"brisbane\" + 0.026*\"warn\" + '\n",
      "  '0.024*\"vote\" + 0.022*\"victim\" + 0.019*\"allege\" + 0.019*\"case\" + '\n",
      "  '0.019*\"street\" + 0.017*\"senate\"'),\n",
      " (19,\n",
      "  '0.070*\"year\" + 0.034*\"home\" + 0.033*\"back\" + 0.031*\"change\" + '\n",
      "  '0.026*\"england\" + 0.025*\"law\" + 0.025*\"return\" + 0.021*\"storm\" + '\n",
      "  '0.020*\"canberra\" + 0.019*\"cut\"')]\n"
     ]
    }
   ],
   "source": [
    "# Print the Keyword in the 10 topics\n",
    "pprint(lda_model.print_topics())\n",
    "doc_lda = lda_model[corpus]"
   ]
  },
  {
   "cell_type": "markdown",
   "metadata": {},
   "source": [
    "__Compute Model Perplexity and Coherence Score__"
   ]
  },
  {
   "cell_type": "code",
   "execution_count": 16,
   "metadata": {},
   "outputs": [
    {
     "name": "stdout",
     "output_type": "stream",
     "text": [
      "\n",
      "Perplexity:  -10.043624796173853\n",
      "\n",
      "Coherence Score:  0.2335542863866586\n"
     ]
    }
   ],
   "source": [
    "# Compute Perplexity\n",
    "print('\\nPerplexity: ', lda_model.log_perplexity(corpus))  # a measure of how good the model is. lower the better.\n",
    "\n",
    "# Compute Coherence Score\n",
    "coherence_model_lda = CoherenceModel(model=lda_model, texts=data_lemmatized, dictionary=id2word, coherence='c_v')\n",
    "coherence_lda = coherence_model_lda.get_coherence()\n",
    "print('\\nCoherence Score: ', coherence_lda)"
   ]
  },
  {
   "cell_type": "markdown",
   "metadata": {},
   "source": [
    "__Visualize the topics-keywords__"
   ]
  },
  {
   "cell_type": "code",
   "execution_count": 17,
   "metadata": {},
   "outputs": [
    {
     "name": "stderr",
     "output_type": "stream",
     "text": [
      "/home/anotario/anaconda2/envs/EI_python36/lib/python3.6/site-packages/pyLDAvis/_prepare.py:257: FutureWarning: Sorting because non-concatenation axis is not aligned. A future version\n",
      "of pandas will change to not sort by default.\n",
      "\n",
      "To accept the future behavior, pass 'sort=False'.\n",
      "\n",
      "To retain the current behavior and silence the warning, pass 'sort=True'.\n",
      "\n",
      "  return pd.concat([default_term_info] + list(topic_dfs))\n"
     ]
    },
    {
     "data": {
      "text/html": [
       "\n",
       "<link rel=\"stylesheet\" type=\"text/css\" href=\"https://cdn.rawgit.com/bmabey/pyLDAvis/files/ldavis.v1.0.0.css\">\n",
       "\n",
       "\n",
       "<div id=\"ldavis_el97971403210140976247262034407\"></div>\n",
       "<script type=\"text/javascript\">\n",
       "\n",
       "var ldavis_el97971403210140976247262034407_data = {\"mdsDat\": {\"x\": [-0.41230650141590786, -0.12877456717070146, -0.027554009037793398, -0.008084109188118247, 0.015088825332638174, 0.03679527248551624, 0.028787445615411345, 0.019332714966756547, -0.039104222135680655, 0.044644867974610224, 0.01638642311575926, 0.03921526177721821, 0.04110439140629478, 0.0787409502498117, 0.030832222913706915, 0.014206072562061496, 0.06502350358589334, 0.06705371915973171, 0.069751401051884, 0.04886033675090744], \"y\": [0.020039554598517584, 0.029067941762873962, -0.11093994822537312, -0.08926194521476366, 0.16050405738320744, 0.3591875033633695, -0.05295686170261959, 0.016390467766688392, -0.06585369548286595, -0.03169589247525648, -0.005550356728877562, -0.07650337825450901, -0.06298863210021463, -0.019494899443823484, -0.03107862058538109, -0.06520889698664306, -0.016891909670159685, -0.02121808172340943, 0.053046556678855085, 0.011407037040384482], \"topics\": [1, 2, 3, 4, 5, 6, 7, 8, 9, 10, 11, 12, 13, 14, 15, 16, 17, 18, 19, 20], \"cluster\": [1, 1, 1, 1, 1, 1, 1, 1, 1, 1, 1, 1, 1, 1, 1, 1, 1, 1, 1, 1], \"Freq\": [15.57331371307373, 5.927447319030762, 5.256464958190918, 5.120750904083252, 5.070335388183594, 4.898608207702637, 4.643985748291016, 4.5974297523498535, 4.570619583129883, 4.41038179397583, 4.337199687957764, 4.335671901702881, 4.251003742218018, 4.211428642272949, 4.04356050491333, 4.005229473114014, 3.8683202266693115, 3.7716290950775146, 3.56868052482605, 3.5379271507263184]}, \"tinfo\": {\"Category\": [\"Default\", \"Default\", \"Default\", \"Default\", \"Default\", \"Default\", \"Default\", \"Default\", \"Default\", \"Default\", \"Default\", \"Default\", \"Default\", \"Default\", \"Default\", \"Default\", \"Default\", \"Default\", \"Default\", \"Default\", \"Default\", \"Default\", \"Default\", \"Default\", \"Default\", \"Default\", \"Default\", \"Default\", \"Default\", \"Default\", \"Topic1\", \"Topic1\", \"Topic1\", \"Topic1\", \"Topic1\", \"Topic1\", \"Topic1\", \"Topic1\", \"Topic1\", \"Topic1\", \"Topic1\", \"Topic1\", \"Topic1\", \"Topic1\", \"Topic1\", \"Topic1\", \"Topic1\", \"Topic1\", \"Topic1\", \"Topic1\", \"Topic1\", \"Topic1\", \"Topic1\", \"Topic1\", \"Topic1\", \"Topic1\", \"Topic1\", \"Topic1\", \"Topic1\", \"Topic1\", \"Topic1\", \"Topic2\", \"Topic2\", \"Topic2\", \"Topic2\", \"Topic2\", \"Topic2\", \"Topic2\", \"Topic2\", \"Topic2\", \"Topic2\", \"Topic2\", \"Topic2\", \"Topic2\", \"Topic2\", \"Topic2\", \"Topic2\", \"Topic2\", \"Topic2\", \"Topic2\", \"Topic2\", \"Topic2\", \"Topic2\", \"Topic2\", \"Topic2\", \"Topic2\", \"Topic2\", \"Topic2\", \"Topic2\", \"Topic2\", \"Topic2\", \"Topic3\", \"Topic3\", \"Topic3\", \"Topic3\", \"Topic3\", \"Topic3\", \"Topic3\", \"Topic3\", \"Topic3\", \"Topic3\", \"Topic3\", \"Topic3\", \"Topic3\", \"Topic3\", \"Topic3\", \"Topic3\", \"Topic3\", \"Topic3\", \"Topic3\", \"Topic3\", \"Topic3\", \"Topic3\", \"Topic3\", \"Topic3\", \"Topic3\", \"Topic3\", \"Topic3\", \"Topic3\", \"Topic3\", \"Topic3\", \"Topic4\", \"Topic4\", \"Topic4\", \"Topic4\", \"Topic4\", \"Topic4\", \"Topic4\", \"Topic4\", \"Topic4\", \"Topic4\", \"Topic4\", \"Topic4\", \"Topic4\", \"Topic4\", \"Topic4\", \"Topic4\", \"Topic4\", \"Topic4\", \"Topic4\", \"Topic4\", \"Topic4\", \"Topic4\", \"Topic4\", \"Topic4\", \"Topic4\", \"Topic4\", \"Topic4\", \"Topic4\", \"Topic4\", \"Topic4\", \"Topic5\", \"Topic5\", \"Topic5\", \"Topic5\", \"Topic5\", \"Topic5\", \"Topic5\", \"Topic5\", \"Topic5\", \"Topic5\", \"Topic5\", \"Topic5\", \"Topic5\", \"Topic5\", \"Topic5\", \"Topic5\", \"Topic5\", \"Topic5\", \"Topic5\", \"Topic5\", \"Topic5\", \"Topic5\", \"Topic5\", \"Topic5\", \"Topic5\", \"Topic5\", \"Topic5\", \"Topic5\", \"Topic5\", \"Topic5\", \"Topic6\", \"Topic6\", \"Topic6\", \"Topic6\", \"Topic6\", \"Topic6\", \"Topic6\", \"Topic6\", \"Topic6\", \"Topic6\", \"Topic6\", \"Topic6\", \"Topic6\", \"Topic6\", \"Topic6\", \"Topic6\", \"Topic6\", \"Topic6\", \"Topic6\", \"Topic6\", \"Topic6\", \"Topic6\", \"Topic6\", \"Topic6\", \"Topic6\", \"Topic6\", \"Topic6\", \"Topic6\", \"Topic6\", \"Topic6\", \"Topic7\", \"Topic7\", \"Topic7\", \"Topic7\", \"Topic7\", \"Topic7\", \"Topic7\", \"Topic7\", \"Topic7\", \"Topic7\", \"Topic7\", \"Topic7\", \"Topic7\", \"Topic7\", \"Topic7\", \"Topic7\", \"Topic7\", \"Topic7\", \"Topic7\", \"Topic7\", \"Topic7\", \"Topic7\", \"Topic7\", \"Topic7\", \"Topic7\", \"Topic7\", \"Topic7\", \"Topic7\", \"Topic7\", \"Topic7\", \"Topic8\", \"Topic8\", \"Topic8\", \"Topic8\", \"Topic8\", \"Topic8\", \"Topic8\", \"Topic8\", \"Topic8\", \"Topic8\", \"Topic8\", \"Topic8\", \"Topic8\", \"Topic8\", \"Topic8\", \"Topic8\", \"Topic8\", \"Topic8\", \"Topic8\", \"Topic8\", \"Topic8\", \"Topic8\", \"Topic8\", \"Topic8\", \"Topic8\", \"Topic8\", \"Topic8\", \"Topic8\", \"Topic8\", \"Topic8\", \"Topic9\", \"Topic9\", \"Topic9\", \"Topic9\", \"Topic9\", \"Topic9\", \"Topic9\", \"Topic9\", \"Topic9\", \"Topic9\", \"Topic9\", \"Topic9\", \"Topic9\", \"Topic9\", \"Topic9\", \"Topic9\", \"Topic9\", \"Topic9\", \"Topic9\", \"Topic9\", \"Topic9\", \"Topic9\", \"Topic9\", \"Topic9\", \"Topic9\", \"Topic9\", \"Topic9\", \"Topic9\", \"Topic9\", \"Topic9\", \"Topic9\", \"Topic10\", \"Topic10\", \"Topic10\", \"Topic10\", \"Topic10\", \"Topic10\", \"Topic10\", \"Topic10\", \"Topic10\", \"Topic10\", \"Topic10\", \"Topic10\", \"Topic10\", \"Topic10\", \"Topic10\", \"Topic10\", \"Topic10\", \"Topic10\", \"Topic10\", \"Topic10\", \"Topic10\", \"Topic10\", \"Topic10\", \"Topic10\", \"Topic10\", \"Topic10\", \"Topic10\", \"Topic10\", \"Topic10\", \"Topic10\", \"Topic11\", \"Topic11\", \"Topic11\", \"Topic11\", \"Topic11\", \"Topic11\", \"Topic11\", \"Topic11\", \"Topic11\", \"Topic11\", \"Topic11\", \"Topic11\", \"Topic11\", \"Topic11\", \"Topic11\", \"Topic11\", \"Topic11\", \"Topic11\", \"Topic11\", \"Topic11\", \"Topic11\", \"Topic11\", \"Topic11\", \"Topic11\", \"Topic11\", \"Topic11\", \"Topic11\", \"Topic11\", \"Topic11\", \"Topic11\", \"Topic12\", \"Topic12\", \"Topic12\", \"Topic12\", \"Topic12\", \"Topic12\", \"Topic12\", \"Topic12\", \"Topic12\", \"Topic12\", \"Topic12\", \"Topic12\", \"Topic12\", \"Topic12\", \"Topic12\", \"Topic12\", \"Topic12\", \"Topic12\", \"Topic12\", \"Topic12\", \"Topic12\", \"Topic12\", \"Topic12\", \"Topic12\", \"Topic12\", \"Topic12\", \"Topic12\", \"Topic12\", \"Topic12\", \"Topic12\", \"Topic13\", \"Topic13\", \"Topic13\", \"Topic13\", \"Topic13\", \"Topic13\", \"Topic13\", \"Topic13\", \"Topic13\", \"Topic13\", \"Topic13\", \"Topic13\", \"Topic13\", \"Topic13\", \"Topic13\", \"Topic13\", \"Topic13\", \"Topic13\", \"Topic13\", \"Topic13\", \"Topic13\", \"Topic13\", \"Topic13\", \"Topic13\", \"Topic13\", \"Topic13\", \"Topic13\", \"Topic13\", \"Topic13\", \"Topic13\", \"Topic14\", \"Topic14\", \"Topic14\", \"Topic14\", \"Topic14\", \"Topic14\", \"Topic14\", \"Topic14\", \"Topic14\", \"Topic14\", \"Topic14\", \"Topic14\", \"Topic14\", \"Topic14\", \"Topic14\", \"Topic14\", \"Topic14\", \"Topic14\", \"Topic14\", \"Topic14\", \"Topic14\", \"Topic14\", \"Topic14\", \"Topic14\", \"Topic14\", \"Topic14\", \"Topic14\", \"Topic14\", \"Topic14\", \"Topic14\", \"Topic15\", \"Topic15\", \"Topic15\", \"Topic15\", \"Topic15\", \"Topic15\", \"Topic15\", \"Topic15\", \"Topic15\", \"Topic15\", \"Topic15\", \"Topic15\", \"Topic15\", \"Topic15\", \"Topic15\", \"Topic15\", \"Topic15\", \"Topic15\", \"Topic15\", \"Topic15\", \"Topic15\", \"Topic15\", \"Topic15\", \"Topic15\", \"Topic15\", \"Topic15\", \"Topic15\", \"Topic15\", \"Topic15\", \"Topic15\", \"Topic16\", \"Topic16\", \"Topic16\", \"Topic16\", \"Topic16\", \"Topic16\", \"Topic16\", \"Topic16\", \"Topic16\", \"Topic16\", \"Topic16\", \"Topic16\", \"Topic16\", \"Topic16\", \"Topic16\", \"Topic16\", \"Topic16\", \"Topic16\", \"Topic16\", \"Topic16\", \"Topic16\", \"Topic16\", \"Topic16\", \"Topic16\", \"Topic16\", \"Topic16\", \"Topic16\", \"Topic16\", \"Topic16\", \"Topic16\", \"Topic16\", \"Topic17\", \"Topic17\", \"Topic17\", \"Topic17\", \"Topic17\", \"Topic17\", \"Topic17\", \"Topic17\", \"Topic17\", \"Topic17\", \"Topic17\", \"Topic17\", \"Topic17\", \"Topic17\", \"Topic17\", \"Topic17\", \"Topic17\", \"Topic17\", \"Topic17\", \"Topic17\", \"Topic17\", \"Topic17\", \"Topic17\", \"Topic17\", \"Topic17\", \"Topic17\", \"Topic17\", \"Topic17\", \"Topic17\", \"Topic17\", \"Topic18\", \"Topic18\", \"Topic18\", \"Topic18\", \"Topic18\", \"Topic18\", \"Topic18\", \"Topic18\", \"Topic18\", \"Topic18\", \"Topic18\", \"Topic18\", \"Topic18\", \"Topic18\", \"Topic18\", \"Topic18\", \"Topic18\", \"Topic18\", \"Topic18\", \"Topic18\", \"Topic18\", \"Topic18\", \"Topic18\", \"Topic18\", \"Topic18\", \"Topic18\", \"Topic18\", \"Topic18\", \"Topic18\", \"Topic18\", \"Topic19\", \"Topic19\", \"Topic19\", \"Topic19\", \"Topic19\", \"Topic19\", \"Topic19\", \"Topic19\", \"Topic19\", \"Topic19\", \"Topic19\", \"Topic19\", \"Topic19\", \"Topic19\", \"Topic19\", \"Topic19\", \"Topic19\", \"Topic19\", \"Topic19\", \"Topic19\", \"Topic19\", \"Topic19\", \"Topic19\", \"Topic19\", \"Topic19\", \"Topic19\", \"Topic19\", \"Topic19\", \"Topic19\", \"Topic19\", \"Topic20\", \"Topic20\", \"Topic20\", \"Topic20\", \"Topic20\", \"Topic20\", \"Topic20\", \"Topic20\", \"Topic20\", \"Topic20\", \"Topic20\", \"Topic20\", \"Topic20\", \"Topic20\", \"Topic20\", \"Topic20\", \"Topic20\", \"Topic20\", \"Topic20\", \"Topic20\", \"Topic20\", \"Topic20\", \"Topic20\", \"Topic20\", \"Topic20\", \"Topic20\", \"Topic20\", \"Topic20\", \"Topic20\", \"Topic20\"], \"Freq\": [28414.0, 28683.0, 25387.0, 22229.0, 36417.0, 30071.0, 16727.0, 16828.0, 15256.0, 15652.0, 14637.0, 15203.0, 15197.0, 14802.0, 13969.0, 14277.0, 13908.0, 12289.0, 13142.0, 12631.0, 13046.0, 10920.0, 11527.0, 12022.0, 11166.0, 11263.0, 11189.0, 10194.0, 10766.0, 10126.0, 36416.3203125, 30070.205078125, 13409.552734375, 11929.5498046875, 11341.6015625, 10872.4423828125, 10634.1591796875, 10255.369140625, 10156.4052734375, 8498.7783203125, 7417.72607421875, 7165.35400390625, 6979.0107421875, 6834.1357421875, 6823.73583984375, 6682.6787109375, 6428.06005859375, 6343.8251953125, 6206.2607421875, 6131.5546875, 5691.43994140625, 5637.541015625, 5598.78076171875, 5279.89501953125, 5146.52001953125, 4903.75439453125, 4871.62939453125, 4784.05810546875, 4716.21630859375, 4702.6220703125, 4922.49853515625, 13045.8330078125, 10307.7978515625, 9293.4853515625, 8966.7646484375, 7301.3388671875, 5922.13818359375, 5453.625, 5276.12890625, 4867.2451171875, 4564.04052734375, 4369.24169921875, 4348.72265625, 4044.299560546875, 3952.98828125, 3922.12939453125, 3873.2421875, 3599.232177734375, 3497.880126953125, 3378.391357421875, 3114.173095703125, 2920.787109375, 2793.19091796875, 2643.35302734375, 2379.1708984375, 2363.294921875, 2360.556884765625, 2332.61767578125, 2266.156494140625, 2254.723388671875, 2059.544677734375, 25386.498046875, 6172.39892578125, 5964.58837890625, 5958.81201171875, 5812.4765625, 5482.98779296875, 4113.3251953125, 3976.360595703125, 3792.585205078125, 3722.50048828125, 3708.77978515625, 3590.007080078125, 3325.820556640625, 3096.66259765625, 3087.2998046875, 2964.14794921875, 2780.713134765625, 2705.057861328125, 2664.326904296875, 2654.4228515625, 2429.234130859375, 2350.564697265625, 2283.350830078125, 2222.693603515625, 2187.728759765625, 2108.1005859375, 2098.113037109375, 2091.566162109375, 1960.8701171875, 1872.367919921875, 28682.994140625, 15652.2001953125, 15196.5908203125, 11188.4716796875, 8955.1982421875, 7804.1591796875, 7231.9267578125, 6436.71826171875, 6354.71240234375, 4521.1201171875, 4032.3798828125, 3641.633056640625, 2578.03662109375, 2455.22119140625, 2170.73681640625, 2120.361572265625, 1978.684814453125, 1931.9150390625, 1843.4093017578125, 1721.2213134765625, 1700.73291015625, 1668.279296875, 1651.3626708984375, 1485.17919921875, 1299.4725341796875, 1206.8487548828125, 1190.8985595703125, 1128.4356689453125, 1087.9583740234375, 1072.674560546875, 13141.927734375, 12630.4033203125, 12021.91796875, 9639.2861328125, 7986.13671875, 7178.615234375, 5111.84375, 4193.474609375, 3917.423095703125, 3829.1728515625, 3762.71630859375, 3606.255859375, 3419.4501953125, 3417.155517578125, 3287.61669921875, 3215.142822265625, 2993.5595703125, 2934.895751953125, 2835.25927734375, 2830.992431640625, 2698.6083984375, 2662.873779296875, 2443.0068359375, 2353.27197265625, 2234.390869140625, 2151.477294921875, 2083.024658203125, 2060.633544921875, 1982.9400634765625, 1982.80517578125, 15202.4990234375, 14801.65234375, 14276.8642578125, 9958.2138671875, 8397.5478515625, 7411.369140625, 4879.9833984375, 4810.5712890625, 4424.15087890625, 3945.966552734375, 3939.23095703125, 3773.007568359375, 3610.353271484375, 3567.29736328125, 3091.3583984375, 2591.912109375, 2504.757080078125, 2429.5146484375, 2406.268310546875, 2342.068359375, 2260.177734375, 2152.20849609375, 1922.345458984375, 1745.7291259765625, 1661.6663818359375, 1608.901123046875, 1595.2501220703125, 1569.2840576171875, 1543.7049560546875, 1513.854248046875, 13907.8662109375, 10765.359375, 8971.7080078125, 8204.7216796875, 7243.01416015625, 5890.50146484375, 5834.53564453125, 4995.744140625, 4830.5927734375, 4469.18701171875, 4222.19384765625, 3977.4990234375, 3214.003662109375, 3144.71728515625, 3019.389892578125, 2900.790771484375, 2809.271240234375, 2735.697265625, 2685.06640625, 2587.182373046875, 2451.51123046875, 2342.052001953125, 2317.072265625, 2118.498046875, 2091.028564453125, 1760.7576904296875, 1733.6671142578125, 1720.064453125, 1673.4586181640625, 1662.4481201171875, 16827.62890625, 8294.75, 8092.64208984375, 7509.98046875, 6321.1787109375, 5949.02392578125, 5931.00341796875, 4974.85595703125, 4831.2421875, 4544.91015625, 4189.4482421875, 4011.85546875, 3575.9228515625, 3514.0263671875, 3140.382080078125, 3022.757080078125, 2974.212158203125, 2659.668212890625, 2621.260498046875, 2319.7607421875, 2305.263916015625, 1887.425537109375, 1832.901123046875, 1826.0247802734375, 1585.9609375, 1515.1204833984375, 1460.983154296875, 1328.26953125, 1307.3302001953125, 1293.5096435546875, 10334.880859375, 9696.7373046875, 8978.716796875, 6267.99169921875, 5656.10400390625, 5191.24560546875, 4608.4453125, 4542.4296875, 4529.09912109375, 4132.21533203125, 3773.020263671875, 3556.377197265625, 3529.023193359375, 2693.7744140625, 2632.5517578125, 2560.532470703125, 2469.644775390625, 2401.67578125, 2370.762451171875, 2281.959716796875, 2244.25537109375, 1981.89892578125, 1979.32373046875, 1939.1893310546875, 1665.804931640625, 1531.613525390625, 1423.5655517578125, 1423.35302734375, 1314.4061279296875, 1309.6051025390625, 1770.672119140625, 22228.248046875, 15255.259765625, 9561.634765625, 9312.1806640625, 7706.5078125, 4993.71240234375, 4794.4453125, 3360.039306640625, 2956.28564453125, 2646.705810546875, 2564.062255859375, 2534.094482421875, 2436.56787109375, 2437.331298828125, 2348.758056640625, 2347.65966796875, 2143.172607421875, 1866.60302734375, 1830.973388671875, 1805.162841796875, 1747.0523681640625, 1677.8109130859375, 1650.145751953125, 1529.087890625, 1528.9932861328125, 1454.3553466796875, 1420.3768310546875, 1405.5155029296875, 1400.79150390625, 1347.502685546875, 11526.25390625, 7819.00537109375, 7574.55322265625, 6918.28662109375, 6072.11083984375, 5979.50048828125, 5749.556640625, 5420.25537109375, 5241.89208984375, 4394.0390625, 3815.72900390625, 3433.19384765625, 3324.5302734375, 3288.304443359375, 3129.7255859375, 3121.861083984375, 2519.6904296875, 2479.5634765625, 2250.758544921875, 1965.6407470703125, 1900.935791015625, 1877.4788818359375, 1859.792724609375, 1845.042236328125, 1792.294189453125, 1736.1788330078125, 1532.7105712890625, 1525.5089111328125, 1342.898681640625, 1342.43896484375, 14637.185546875, 7793.17333984375, 7103.16064453125, 6464.966796875, 6268.66943359375, 4743.44677734375, 4158.302734375, 4046.811767578125, 3783.718017578125, 3648.26513671875, 3468.832275390625, 3438.221923828125, 3387.948486328125, 3352.9365234375, 3343.82177734375, 3241.570556640625, 3074.259521484375, 2724.572265625, 2504.779541015625, 2329.5517578125, 2326.7529296875, 2180.240234375, 2106.34716796875, 2055.145263671875, 2044.3546142578125, 2007.987548828125, 1981.0059814453125, 1807.60400390625, 1783.72119140625, 1613.146728515625, 11262.8720703125, 8095.212890625, 6908.31689453125, 5849.28076171875, 5742.1171875, 5589.88671875, 5551.20947265625, 4500.2919921875, 4352.42236328125, 3622.540771484375, 3575.500244140625, 3052.72802734375, 2976.244140625, 2780.105712890625, 2754.4228515625, 2716.271484375, 2664.164306640625, 2636.415771484375, 2362.538330078125, 2184.81591796875, 2151.111572265625, 2092.255126953125, 1948.6998291015625, 1908.032958984375, 1896.6259765625, 1890.7091064453125, 1876.549072265625, 1800.48291015625, 1747.746826171875, 1719.717041015625, 16727.04296875, 13969.13671875, 7653.3232421875, 4878.541015625, 3844.159912109375, 3011.479248046875, 2718.71826171875, 2676.6826171875, 2640.0888671875, 2599.737060546875, 2578.152099609375, 2534.555419921875, 2515.274658203125, 2299.38330078125, 2072.401611328125, 2041.700439453125, 1923.3460693359375, 1849.986083984375, 1806.325439453125, 1711.4046630859375, 1634.800537109375, 1629.8499755859375, 1586.0830078125, 1518.2664794921875, 1482.6650390625, 1465.162353515625, 1458.909912109375, 1451.24560546875, 1449.9144287109375, 1446.9376220703125, 11165.7373046875, 10125.9501953125, 6660.9609375, 6559.4521484375, 5966.4375, 4291.0244140625, 4194.12060546875, 3312.048095703125, 3253.003662109375, 2877.116455078125, 2788.095458984375, 2266.263427734375, 2258.64208984375, 2209.112548828125, 2077.1181640625, 2049.104248046875, 2038.739990234375, 1905.9617919921875, 1842.4434814453125, 1695.495849609375, 1676.383056640625, 1644.8341064453125, 1641.9315185546875, 1614.368408203125, 1611.9132080078125, 1604.46875, 1540.12841796875, 1446.65576171875, 1378.970458984375, 1362.12939453125, 7092.63134765625, 7010.7099609375, 5372.16357421875, 5243.033203125, 4456.64404296875, 4353.265625, 3778.15625, 3633.302978515625, 2766.100341796875, 2737.4951171875, 2434.17919921875, 2419.791259765625, 2385.779541015625, 2263.464111328125, 2248.12060546875, 2109.005126953125, 2043.8970947265625, 1895.0009765625, 1846.1978759765625, 1818.1990966796875, 1757.63232421875, 1730.690185546875, 1727.1943359375, 1622.81298828125, 1598.3468017578125, 1559.972900390625, 1463.168701171875, 1359.7813720703125, 1349.6868896484375, 1344.52685546875, 2330.972412109375, 28414.17578125, 10193.8662109375, 7430.43310546875, 5395.80126953125, 4683.71630859375, 4040.54345703125, 3274.313232421875, 2742.854736328125, 2365.260986328125, 2318.39111328125, 2206.162353515625, 2108.9384765625, 2059.301025390625, 2001.4932861328125, 1964.0445556640625, 1946.0399169921875, 1750.314453125, 1683.2938232421875, 1677.46826171875, 1537.6527099609375, 1510.929443359375, 1488.111083984375, 1470.1812744140625, 1390.0264892578125, 1350.3406982421875, 1301.9405517578125, 1273.58251953125, 1256.05712890625, 1208.6064453125, 1056.21435546875, 12288.3935546875, 6840.4404296875, 5223.68505859375, 3837.579345703125, 3824.262451171875, 3763.448974609375, 3508.455810546875, 3303.400390625, 2902.72607421875, 2870.361083984375, 2764.222412109375, 2540.429443359375, 2471.658935546875, 2329.9755859375, 2326.76220703125, 2284.924560546875, 2155.354736328125, 2135.960693359375, 2104.13037109375, 1923.3370361328125, 1672.510498046875, 1585.549072265625, 1459.4893798828125, 1447.06298828125, 1427.0948486328125, 1272.887939453125, 1235.9505615234375, 1212.8338623046875, 1200.2418212890625, 1195.8685302734375, 7950.484375, 5840.1796875, 5243.0302734375, 4902.97900390625, 4716.490234375, 4121.64453125, 3866.98828125, 3073.73388671875, 3054.92041015625, 2673.75537109375, 2236.19873046875, 2202.72998046875, 2077.800537109375, 2043.01904296875, 1979.3489990234375, 1850.52978515625, 1833.007080078125, 1821.8411865234375, 1758.5853271484375, 1749.0628662109375, 1737.801513671875, 1607.087158203125, 1498.8876953125, 1496.43603515625, 1413.37841796875, 1390.59375, 1363.8597412109375, 1292.3486328125, 1280.6790771484375, 1257.5726318359375, 10920.0341796875, 6548.45947265625, 5220.3388671875, 4147.7353515625, 4084.523193359375, 3427.89013671875, 3370.35302734375, 3028.6640625, 2738.318115234375, 2688.073974609375, 2166.508056640625, 2061.8955078125, 1888.3973388671875, 1776.0673828125, 1669.0074462890625, 1613.7373046875, 1589.5999755859375, 1573.744384765625, 1549.2939453125, 1497.2152099609375, 1464.2581787109375, 1387.8759765625, 1387.454833984375, 1296.7860107421875, 1227.372802734375, 1200.2789306640625, 1191.696533203125, 1189.0867919921875, 1156.3719482421875, 1117.269775390625], \"Term\": [\"australia\", \"man\", \"police\", \"australian\", \"say\", \"new\", \"sydney\", \"year\", \"court\", \"call\", \"government\", \"woman\", \"charge\", \"queensland\", \"trump\", \"election\", \"nsw\", \"win\", \"find\", \"death\", \"melbourne\", \"child\", \"test\", \"fire\", \"ash\", \"take\", \"murder\", \"could\", \"attack\", \"die\", \"say\", \"new\", \"world\", \"day\", \"first\", \"kill\", \"get\", \"hit\", \"show\", \"car\", \"may\", \"time\", \"tasmanian\", \"good\", \"dead\", \"hospital\", \"student\", \"darwin\", \"sex\", \"run\", \"trial\", \"state\", \"set\", \"program\", \"review\", \"afl\", \"parliament\", \"reveal\", \"driver\", \"fall\", \"malcolm_turnbull\", \"melbourne\", \"make\", \"not\", \"family\", \"indigenous\", \"fight\", \"want\", \"job\", \"abuse\", \"worker\", \"war\", \"do\", \"release\", \"liberal\", \"bank\", \"president\", \"boy\", \"doctor\", \"race\", \"weather\", \"know\", \"bad\", \"great\", \"draw\", \"boss\", \"mark\", \"remain\", \"full\", \"summer\", \"drop\", \"police\", \"shoot\", \"end\", \"tasmania\", \"interview\", \"service\", \"station\", \"green\", \"beat\", \"right\", \"allegation\", \"survey\", \"link\", \"fatal\", \"challenge\", \"officer\", \"offer\", \"royal\", \"building\", \"truck\", \"seek\", \"will\", \"air\", \"build\", \"struggle\", \"housing\", \"outback\", \"demand\", \"age\", \"killer\", \"man\", \"call\", \"charge\", \"murder\", \"help\", \"life\", \"qld\", \"record\", \"deal\", \"urge\", \"assault\", \"result\", \"central\", \"guilty\", \"funding\", \"watch\", \"rape\", \"quit\", \"andrew\", \"breach\", \"protection\", \"escape\", \"scene\", \"early\", \"century\", \"profit\", \"cash\", \"attempt\", \"vision\", \"human_right\", \"find\", \"death\", \"fire\", \"perth\", \"former\", \"miss\", \"search\", \"baby\", \"history\", \"mother\", \"still\", \"body\", \"party\", \"suspect\", \"catch\", \"star\", \"nrl\", \"s\", \"sign\", \"father\", \"inquest\", \"patient\", \"project\", \"domestic_violence\", \"november\", \"start\", \"safe\", \"october\", \"confirm\", \"online\", \"woman\", \"queensland\", \"election\", \"sex_marriage\", \"adelaide\", \"people\", \"road\", \"force\", \"community\", \"push\", \"tax\", \"close\", \"rescue\", \"top\", \"become\", \"airport\", \"visit\", \"post\", \"emergency\", \"damage\", \"teacher\", \"church\", \"explain\", \"join\", \"trade\", \"coalition\", \"allow\", \"book\", \"ready\", \"point\", \"nsw\", \"attack\", \"report\", \"christma\", \"big\", \"national\", \"drug\", \"royal_commission\", \"league\", \"final\", \"speak\", \"business\", \"issue\", \"free\", \"senator\", \"western\", \"threaten\", \"stab\", \"mental_health\", \"prison\", \"december\", \"pass\", \"prepare\", \"create\", \"hand\", \"rare\", \"soldier\", \"wrap\", \"respond\", \"politician\", \"year\", \"home\", \"back\", \"change\", \"england\", \"law\", \"return\", \"storm\", \"canberra\", \"cut\", \"keep\", \"name\", \"come\", \"rule\", \"film\", \"hear\", \"parent\", \"rate\", \"gold_coast\", \"smith\", \"love\", \"female\", \"plant\", \"tourist\", \"surf\", \"match\", \"historic\", \"hundred\", \"hot\", \"prisoner\", \"school\", \"crash\", \"brisbane\", \"warn\", \"vote\", \"victim\", \"allege\", \"case\", \"street\", \"senate\", \"turn\", \"head\", \"see\", \"flood\", \"river\", \"inquiry\", \"protester\", \"mayor\", \"problem\", \"burn\", \"system\", \"least\", \"military\", \"think\", \"hour\", \"sunshine_coast\", \"judge\", \"message\", \"bushfire\", \"fake\", \"sam_dastyari\", \"australian\", \"court\", \"high\", \"face\", \"accuse\", \"price\", \"give\", \"town\", \"company\", \"survivor\", \"allegedly\", \"plane\", \"resign\", \"bali\", \"light\", \"flight\", \"russian\", \"fly\", \"lawyer\", \"incident\", \"drone\", \"property\", \"wife\", \"holiday\", \"affect\", \"tech\", \"george\", \"bomb\", \"german\", \"director\", \"test\", \"south\", \"labor\", \"house\", \"go\", \"tell\", \"claim\", \"city\", \"pay\", \"week\", \"decision\", \"ahead\", \"train\", \"beach\", \"strike\", \"drive\", \"white\", \"sell\", \"year_old\", \"mp\", \"mean\", \"next\", \"newcastle\", \"candidate\", \"evidence\", \"walk\", \"spot\", \"staff\", \"crow\", \"dance\", \"government\", \"arrest\", \"jail\", \"hobart\", \"sentence\", \"health\", \"market\", \"women\", \"fail\", \"news\", \"dollar\", \"resident\", \"sport\", \"minister\", \"aussie\", \"act\", \"bus\", \"low\", \"island\", \"waste\", \"centre\", \"las_vegas\", \"flinder\", \"journalist\", \"voter\", \"increase\", \"legal\", \"quiz\", \"deliver\", \"fraud\", \"take\", \"open\", \"north\", \"victoria\", \"west\", \"bill\", \"council\", \"group\", \"meet\", \"art\", \"celebrate\", \"curious\", \"girl\", \"injure\", \"deny\", \"team\", \"rock\", \"security\", \"cancer\", \"money\", \"major\", \"welcome\", \"couple\", \"learn\", \"farm\", \"september\", \"step\", \"justice\", \"care\", \"wedding\", \"sydney\", \"trump\", \"china\", \"move\", \"russia\", \"investigate\", \"park\", \"cost\", \"son\", \"try\", \"happen\", \"would\", \"investigation\", \"rural\", \"tas\", \"part\", \"space\", \"coal\", \"gay\", \"site\", \"sexual_assault\", \"consider\", \"meeting\", \"protect\", \"french\", \"fish\", \"technology\", \"abc\", \"volunteer\", \"thing\", \"ash\", \"die\", \"work\", \"north_korea\", \"rise\", \"announce\", \"break\", \"food\", \"continue\", \"threat\", \"korean\", \"london\", \"steal\", \"peter\", \"send\", \"gun\", \"moment\", \"music\", \"suicide\", \"burke\", \"policy\", \"owner\", \"tour\", \"expect\", \"korea\", \"official\", \"ice\", \"southern\", \"phone\", \"bridge\", \"power\", \"ban\", \"need\", \"water\", \"socceroo\", \"dog\", \"save\", \"regional\", \"last\", \"boost\", \"medium\", \"shooting\", \"festival\", \"university\", \"long\", \"violence\", \"remove\", \"solar\", \"discuss\", \"track\", \"block\", \"york\", \"reform\", \"northern\", \"spark\", \"blast\", \"blame\", \"impact\", \"reflect\", \"success\", \"myanmar\", \"australia\", \"could\", \"plan\", \"leader\", \"aboriginal\", \"chinese\", \"defend\", \"political\", \"raid\", \"artist\", \"warning\", \"fin\", \"travel\", \"indonesia\", \"syria\", \"scandal\", \"scheme\", \"replace\", \"follow\", \"treatment\", \"aid\", \"rally\", \"richmond\", \"access\", \"loan\", \"apartment\", \"mass\", \"board\", \"dangerous\", \"finding\", \"win\", \"cup\", \"lead\", \"refugee\", \"play\", \"game\", \"risk\", \"share\", \"india\", \"youth\", \"michael\", \"victory\", \"expert\", \"appeal\", \"promise\", \"grand_final\", \"photo\", \"fund\", \"british\", \"gas\", \"arrive\", \"eye\", \"form\", \"cold\", \"super\", \"rugby\", \"alexander\", \"harvey\", \"double\", \"origin\", \"nt\", \"leave\", \"lose\", \"video\", \"citizenship\", \"turnbull\", \"battle\", \"wall_street\", \"old\", \"sea\", \"budget\", \"late\", \"japan\", \"month\", \"stadium\", \"defence\", \"jerusalem\", \"football\", \"hope\", \"be\", \"veteran\", \"seat\", \"title\", \"career\", \"away\", \"whale\", \"declare\", \"capital\", \"chase\", \"winner\", \"child\", \"use\", \"young\", \"story\", \"hold\", \"fear\", \"cricket\", \"debate\", \"pm\", \"crisis\", \"secret\", \"terror\", \"club\", \"foreign\", \"missile\", \"apologis\", \"datum\", \"pressure\", \"comment\", \"submarine\", \"prompt\", \"person\", \"robert\", \"funeral\", \"jame\", \"dump\", \"ever\", \"human\", \"private\", \"base\"], \"Total\": [28414.0, 28683.0, 25387.0, 22229.0, 36417.0, 30071.0, 16727.0, 16828.0, 15256.0, 15652.0, 14637.0, 15203.0, 15197.0, 14802.0, 13969.0, 14277.0, 13908.0, 12289.0, 13142.0, 12631.0, 13046.0, 10920.0, 11527.0, 12022.0, 11166.0, 11263.0, 11189.0, 10194.0, 10766.0, 10126.0, 36417.1171875, 30071.001953125, 13410.3466796875, 11930.34375, 11342.3955078125, 10873.236328125, 10634.953125, 10256.1630859375, 10157.19921875, 8499.572265625, 7418.52099609375, 7166.14892578125, 6979.8056640625, 6834.9306640625, 6824.53076171875, 6683.4736328125, 6428.85498046875, 6344.6201171875, 6207.0556640625, 6132.349609375, 5692.23486328125, 5638.3359375, 5599.57568359375, 5280.68994140625, 5147.31494140625, 4904.54931640625, 4872.42431640625, 4784.85302734375, 4717.01123046875, 4703.4169921875, 5572.458984375, 13046.6298828125, 10308.5947265625, 9294.2822265625, 8967.5615234375, 7302.13671875, 5922.93603515625, 5454.4228515625, 5276.9267578125, 4868.04296875, 4564.83837890625, 4370.03955078125, 4349.5205078125, 4045.097900390625, 3953.78662109375, 3922.927734375, 3874.04052734375, 3600.030517578125, 3498.678466796875, 3379.189697265625, 3114.971435546875, 2921.58544921875, 2793.9892578125, 2644.1513671875, 2379.96923828125, 2364.09326171875, 2361.355224609375, 2333.416015625, 2266.954833984375, 2255.521728515625, 2060.343017578125, 25387.296875, 6173.1953125, 5965.384765625, 5959.6083984375, 5813.27294921875, 5483.7841796875, 4114.12158203125, 3977.1572265625, 3793.3818359375, 3723.297119140625, 3709.576416015625, 3590.8037109375, 3326.6171875, 3097.459228515625, 3088.096435546875, 2964.944580078125, 2781.509765625, 2705.8544921875, 2665.12353515625, 2655.219482421875, 2430.03076171875, 2351.361328125, 2284.1474609375, 2223.490234375, 2188.525390625, 2108.897216796875, 2098.90966796875, 2092.36279296875, 1961.6661376953125, 1873.1639404296875, 28683.791015625, 15652.9931640625, 15197.3837890625, 11189.2646484375, 8955.9912109375, 7804.95361328125, 7232.72119140625, 6437.5126953125, 6355.5068359375, 4521.91455078125, 4033.17431640625, 3642.427490234375, 2578.8310546875, 2456.015625, 2171.53125, 2121.156005859375, 1979.4788818359375, 1932.7091064453125, 1844.203369140625, 1722.015380859375, 1701.5269775390625, 1669.0733642578125, 1652.15673828125, 1485.9732666015625, 1300.2666015625, 1207.642822265625, 1191.692626953125, 1129.229736328125, 1088.75244140625, 1073.4686279296875, 13142.7236328125, 12631.19921875, 12022.7138671875, 9640.08203125, 7986.93359375, 7179.412109375, 5112.640625, 4194.271484375, 3918.220458984375, 3829.97021484375, 3763.513671875, 3607.05322265625, 3420.24755859375, 3417.952880859375, 3288.4140625, 3215.940185546875, 2994.35693359375, 2935.693115234375, 2836.056640625, 2831.789794921875, 2699.40576171875, 2663.671142578125, 2443.80419921875, 2354.0693359375, 2235.188232421875, 2152.274658203125, 2083.822021484375, 2061.430908203125, 1983.73681640625, 1983.6019287109375, 15203.2958984375, 14802.44921875, 14277.6611328125, 9959.0107421875, 8398.3447265625, 7412.16748046875, 4880.78173828125, 4811.36962890625, 4424.94921875, 3946.764892578125, 3940.029296875, 3773.805908203125, 3611.151611328125, 3568.095703125, 3092.15673828125, 2592.71044921875, 2505.555419921875, 2430.31298828125, 2407.066650390625, 2342.86669921875, 2260.97607421875, 2153.0068359375, 1923.1434326171875, 1746.527099609375, 1662.46435546875, 1609.6990966796875, 1596.048095703125, 1570.08203125, 1544.5029296875, 1514.6522216796875, 13908.662109375, 10766.1552734375, 8972.50390625, 8205.517578125, 7243.810546875, 5891.2978515625, 5835.33203125, 4996.54052734375, 4831.38916015625, 4469.9833984375, 4222.990234375, 3978.2958984375, 3214.800537109375, 3145.51416015625, 3020.186767578125, 2901.587646484375, 2810.068115234375, 2736.494140625, 2685.86328125, 2587.979248046875, 2452.30810546875, 2342.848876953125, 2317.869140625, 2119.294921875, 2091.825439453125, 1761.55419921875, 1734.463623046875, 1720.8609619140625, 1674.255126953125, 1663.24462890625, 16828.427734375, 8295.5478515625, 8093.43994140625, 7510.7783203125, 6321.9765625, 5949.82177734375, 5931.80126953125, 4975.65380859375, 4832.0400390625, 4545.7080078125, 4190.24609375, 4012.6533203125, 3576.720703125, 3514.82421875, 3141.179931640625, 3023.554931640625, 2975.010009765625, 2660.466064453125, 2622.058349609375, 2320.55859375, 2306.061767578125, 1888.22314453125, 1833.69873046875, 1826.8223876953125, 1586.758544921875, 1515.9180908203125, 1461.78076171875, 1329.067138671875, 1308.1278076171875, 1294.3072509765625, 10335.6796875, 9697.5361328125, 8979.515625, 6268.79052734375, 5656.90283203125, 5192.04443359375, 4609.244140625, 4543.228515625, 4529.89794921875, 4133.01416015625, 3773.81884765625, 3557.17578125, 3529.82177734375, 2694.572998046875, 2633.350341796875, 2561.3310546875, 2470.443359375, 2402.474365234375, 2371.56103515625, 2282.75830078125, 2245.053955078125, 1982.6973876953125, 1980.1221923828125, 1939.98779296875, 1666.6033935546875, 1532.4119873046875, 1424.364013671875, 1424.1514892578125, 1315.20458984375, 1310.403564453125, 1790.3092041015625, 22229.046875, 15256.056640625, 9562.431640625, 9312.9775390625, 7707.3046875, 4994.50927734375, 4795.2421875, 3360.836669921875, 2957.0830078125, 2647.503173828125, 2564.859619140625, 2534.891845703125, 2437.365234375, 2438.128662109375, 2349.555419921875, 2348.45703125, 2143.969970703125, 1867.400146484375, 1831.7705078125, 1805.9599609375, 1747.8494873046875, 1678.6080322265625, 1650.94287109375, 1529.885009765625, 1529.7904052734375, 1455.1524658203125, 1421.1739501953125, 1406.3126220703125, 1401.588623046875, 1348.2998046875, 11527.0517578125, 7819.80322265625, 7575.35107421875, 6919.08447265625, 6072.90869140625, 5980.29833984375, 5750.3544921875, 5421.05322265625, 5242.68994140625, 4394.8369140625, 3816.527099609375, 3433.991943359375, 3325.328369140625, 3289.1025390625, 3130.523681640625, 3122.6591796875, 2520.488525390625, 2480.361572265625, 2251.556640625, 1966.4385986328125, 1901.733642578125, 1878.2767333984375, 1860.590576171875, 1845.840087890625, 1793.092041015625, 1736.9766845703125, 1533.5084228515625, 1526.3067626953125, 1343.696533203125, 1343.23681640625, 14637.982421875, 7793.9697265625, 7103.95703125, 6465.76318359375, 6269.4658203125, 4744.2431640625, 4159.09912109375, 4047.6083984375, 3784.5146484375, 3649.061767578125, 3469.62890625, 3439.0185546875, 3388.7451171875, 3353.733154296875, 3344.618408203125, 3242.3671875, 3075.05615234375, 2725.368896484375, 2505.576171875, 2330.348388671875, 2327.549560546875, 2181.036865234375, 2107.143798828125, 2055.94189453125, 2045.151123046875, 2008.7840576171875, 1981.802490234375, 1808.4005126953125, 1784.5177001953125, 1613.9432373046875, 11263.66796875, 8096.0087890625, 6909.11279296875, 5850.07666015625, 5742.9130859375, 5590.6826171875, 5552.00537109375, 4501.087890625, 4353.21826171875, 3623.336669921875, 3576.296142578125, 3053.52392578125, 2977.0400390625, 2780.901611328125, 2755.21875, 2717.0673828125, 2664.960205078125, 2637.211669921875, 2363.334228515625, 2185.61181640625, 2151.907470703125, 2093.051025390625, 1949.49560546875, 1908.8287353515625, 1897.4217529296875, 1891.5048828125, 1877.3448486328125, 1801.2786865234375, 1748.5426025390625, 1720.5128173828125, 16727.83984375, 13969.93359375, 7654.119140625, 4879.3369140625, 3844.9560546875, 3012.275390625, 2719.514404296875, 2677.478759765625, 2640.885009765625, 2600.533203125, 2578.9482421875, 2535.3515625, 2516.07080078125, 2300.179443359375, 2073.19775390625, 2042.496337890625, 1924.1419677734375, 1850.781982421875, 1807.121337890625, 1712.2005615234375, 1635.596435546875, 1630.6458740234375, 1586.87890625, 1519.0623779296875, 1483.4609375, 1465.958251953125, 1459.705810546875, 1452.04150390625, 1450.7103271484375, 1447.7335205078125, 11166.5390625, 10126.751953125, 6661.76123046875, 6560.25244140625, 5967.23779296875, 4291.82470703125, 4194.9208984375, 3312.8486328125, 3253.80419921875, 2877.9169921875, 2788.89599609375, 2267.06396484375, 2259.442626953125, 2209.9130859375, 2077.918701171875, 2049.90478515625, 2039.5404052734375, 1906.76220703125, 1843.243896484375, 1696.2962646484375, 1677.1834716796875, 1645.634521484375, 1642.73193359375, 1615.1688232421875, 1612.713623046875, 1605.2691650390625, 1540.9288330078125, 1447.4561767578125, 1379.7708740234375, 1362.9298095703125, 7093.42626953125, 7011.5048828125, 5372.95849609375, 5243.828125, 4457.43896484375, 4354.060546875, 3778.951171875, 3634.097900390625, 2766.895263671875, 2738.2900390625, 2434.97412109375, 2420.586181640625, 2386.574462890625, 2264.259033203125, 2248.91552734375, 2109.800048828125, 2044.6920166015625, 1895.7958984375, 1846.9927978515625, 1818.9940185546875, 1758.42724609375, 1731.485107421875, 1727.9892578125, 1623.60791015625, 1599.1417236328125, 1560.767822265625, 1463.963623046875, 1360.5762939453125, 1350.4818115234375, 1345.32177734375, 2585.477783203125, 28414.970703125, 10194.6640625, 7431.2294921875, 5396.59765625, 4684.5126953125, 4041.340087890625, 3275.10986328125, 2743.6513671875, 2366.0576171875, 2319.187744140625, 2206.958984375, 2109.735107421875, 2060.09765625, 2002.2900390625, 1964.84130859375, 1946.836669921875, 1751.1112060546875, 1684.090576171875, 1678.2650146484375, 1538.449462890625, 1511.7261962890625, 1488.9078369140625, 1470.97802734375, 1390.8232421875, 1351.137451171875, 1302.7373046875, 1274.3792724609375, 1256.8538818359375, 1209.4031982421875, 1057.0111083984375, 12289.189453125, 6841.23583984375, 5224.48046875, 3838.374755859375, 3825.057861328125, 3764.244384765625, 3509.251220703125, 3304.19580078125, 2903.521484375, 2871.156494140625, 2765.017822265625, 2541.224853515625, 2472.454345703125, 2330.77099609375, 2327.5576171875, 2285.719970703125, 2156.150146484375, 2136.756103515625, 2104.92578125, 1924.13232421875, 1673.3057861328125, 1586.3443603515625, 1460.28466796875, 1447.8582763671875, 1427.89013671875, 1273.6832275390625, 1236.745849609375, 1213.629150390625, 1201.037109375, 1196.663818359375, 7951.28369140625, 5840.97900390625, 5243.82958984375, 4903.7783203125, 4717.28955078125, 4122.44384765625, 3867.78759765625, 3074.533203125, 3055.7197265625, 2674.5546875, 2236.998046875, 2203.529296875, 2078.599853515625, 2043.8184814453125, 1980.1484375, 1851.3292236328125, 1833.8065185546875, 1822.640625, 1759.384765625, 1749.8623046875, 1738.6009521484375, 1607.8865966796875, 1499.6871337890625, 1497.2354736328125, 1414.1778564453125, 1391.3931884765625, 1364.6591796875, 1293.1480712890625, 1281.478515625, 1258.3720703125, 10920.833984375, 6549.2587890625, 5221.13818359375, 4148.53466796875, 4085.322509765625, 3428.689453125, 3371.15234375, 3029.46337890625, 2739.117431640625, 2688.873291015625, 2167.307373046875, 2062.69482421875, 1889.19677734375, 1776.8668212890625, 1669.806884765625, 1614.5367431640625, 1590.3994140625, 1574.5438232421875, 1550.0933837890625, 1498.0146484375, 1465.0576171875, 1388.6754150390625, 1388.2542724609375, 1297.58544921875, 1228.1722412109375, 1201.078369140625, 1192.4959716796875, 1189.88623046875, 1157.17138671875, 1118.0692138671875], \"loglift\": [30.0, 29.0, 28.0, 27.0, 26.0, 25.0, 24.0, 23.0, 22.0, 21.0, 20.0, 19.0, 18.0, 17.0, 16.0, 15.0, 14.0, 13.0, 12.0, 11.0, 10.0, 9.0, 8.0, 7.0, 6.0, 5.0, 4.0, 3.0, 2.0, 1.0, 1.8595999479293823, 1.8595999479293823, 1.8595999479293823, 1.8595000505447388, 1.8595000505447388, 1.8595000505447388, 1.8595000505447388, 1.8595000505447388, 1.8595000505447388, 1.8595000505447388, 1.8595000505447388, 1.8595000505447388, 1.8595000505447388, 1.8595000505447388, 1.8595000505447388, 1.8595000505447388, 1.8595000505447388, 1.8595000505447388, 1.8595000505447388, 1.8595000505447388, 1.8595000505447388, 1.8595000505447388, 1.8595000505447388, 1.8595000505447388, 1.8595000505447388, 1.8594000339508057, 1.8594000339508057, 1.8594000339508057, 1.8594000339508057, 1.8594000339508057, 1.7355999946594238, 2.825500011444092, 2.825500011444092, 2.825500011444092, 2.825500011444092, 2.825500011444092, 2.8254001140594482, 2.8254001140594482, 2.8254001140594482, 2.8254001140594482, 2.8254001140594482, 2.8254001140594482, 2.8254001140594482, 2.8254001140594482, 2.8254001140594482, 2.8254001140594482, 2.8254001140594482, 2.8254001140594482, 2.8252999782562256, 2.8252999782562256, 2.8252999782562256, 2.8252999782562256, 2.8252999782562256, 2.8252999782562256, 2.825200080871582, 2.825200080871582, 2.825200080871582, 2.825200080871582, 2.825200080871582, 2.825200080871582, 2.825200080871582, 2.94569993019104, 2.9456000328063965, 2.9456000328063965, 2.9456000328063965, 2.9456000328063965, 2.9456000328063965, 2.945499897003174, 2.945499897003174, 2.945499897003174, 2.945499897003174, 2.945499897003174, 2.945499897003174, 2.945499897003174, 2.945499897003174, 2.945499897003174, 2.9453999996185303, 2.9453999996185303, 2.9453999996185303, 2.9453999996185303, 2.9453999996185303, 2.9453999996185303, 2.9453999996185303, 2.9453999996185303, 2.9453999996185303, 2.9453001022338867, 2.9453001022338867, 2.9453001022338867, 2.9453001022338867, 2.9453001022338867, 2.9453001022338867, 2.9718000888824463, 2.9718000888824463, 2.9718000888824463, 2.9718000888824463, 2.9718000888824463, 2.9718000888824463, 2.9718000888824463, 2.9716999530792236, 2.9716999530792236, 2.9716999530792236, 2.9716999530792236, 2.9716999530792236, 2.97160005569458, 2.9714999198913574, 2.9714999198913574, 2.9714999198913574, 2.9714999198913574, 2.9714999198913574, 2.971400022506714, 2.971400022506714, 2.971400022506714, 2.971400022506714, 2.971400022506714, 2.971299886703491, 2.971299886703491, 2.9711999893188477, 2.9711999893188477, 2.9711999893188477, 2.971100091934204, 2.971100091934204, 2.9816999435424805, 2.9816999435424805, 2.9816999435424805, 2.9816999435424805, 2.9816999435424805, 2.9816999435424805, 2.981600046157837, 2.981600046157837, 2.981600046157837, 2.981600046157837, 2.981600046157837, 2.9814999103546143, 2.9814999103546143, 2.9814999103546143, 2.9814999103546143, 2.9814999103546143, 2.9814999103546143, 2.9814999103546143, 2.9814999103546143, 2.9814999103546143, 2.9814999103546143, 2.9814999103546143, 2.9814000129699707, 2.9814000129699707, 2.9814000129699707, 2.9814000129699707, 2.9814000129699707, 2.9814000129699707, 2.9814000129699707, 2.9814000129699707, 3.016200065612793, 3.016200065612793, 3.016200065612793, 3.0160999298095703, 3.0160999298095703, 3.0160999298095703, 3.0160999298095703, 3.0160999298095703, 3.0160000324249268, 3.0160000324249268, 3.0160000324249268, 3.0160000324249268, 3.0160000324249268, 3.0160000324249268, 3.0160000324249268, 3.015899896621704, 3.015899896621704, 3.015899896621704, 3.015899896621704, 3.015899896621704, 3.015899896621704, 3.0157999992370605, 3.0157999992370605, 3.0157999992370605, 3.015700101852417, 3.015700101852417, 3.015700101852417, 3.015700101852417, 3.015700101852417, 3.015700101852417, 3.069499969482422, 3.069499969482422, 3.069499969482422, 3.069499969482422, 3.069499969482422, 3.069499969482422, 3.069499969482422, 3.0694000720977783, 3.0694000720977783, 3.0694000720977783, 3.0694000720977783, 3.0694000720977783, 3.0692999362945557, 3.0692999362945557, 3.0692999362945557, 3.0692999362945557, 3.0692999362945557, 3.0692999362945557, 3.0692999362945557, 3.0692999362945557, 3.0692999362945557, 3.0692999362945557, 3.0692999362945557, 3.069200038909912, 3.069200038909912, 3.0690999031066895, 3.0690999031066895, 3.0690999031066895, 3.0690999031066895, 3.0690999031066895, 3.0796000957489014, 3.0796000957489014, 3.0796000957489014, 3.0796000957489014, 3.0794999599456787, 3.0794999599456787, 3.0794999599456787, 3.0794999599456787, 3.0794999599456787, 3.0794999599456787, 3.0794999599456787, 3.0794999599456787, 3.079400062561035, 3.079400062561035, 3.079400062561035, 3.079400062561035, 3.079400062561035, 3.079400062561035, 3.079400062561035, 3.0792999267578125, 3.0792999267578125, 3.079200029373169, 3.079200029373169, 3.079200029373169, 3.079200029373169, 3.0790998935699463, 3.0790998935699463, 3.0790998935699463, 3.0790998935699463, 3.0790998935699463, 3.085400104522705, 3.085400104522705, 3.085400104522705, 3.085400104522705, 3.085400104522705, 3.085400104522705, 3.0852999687194824, 3.0852999687194824, 3.0852999687194824, 3.0852999687194824, 3.0852999687194824, 3.0852999687194824, 3.0852999687194824, 3.085200071334839, 3.085200071334839, 3.085200071334839, 3.085200071334839, 3.085200071334839, 3.085200071334839, 3.085200071334839, 3.085200071334839, 3.085099935531616, 3.085099935531616, 3.085099935531616, 3.0850000381469727, 3.0850000381469727, 3.0850000381469727, 3.0850000381469727, 3.08489990234375, 3.08489990234375, 3.07450008392334, 3.1212000846862793, 3.1212000846862793, 3.1210999488830566, 3.1210999488830566, 3.1210999488830566, 3.121000051498413, 3.121000051498413, 3.121000051498413, 3.1208999156951904, 3.1208999156951904, 3.1208999156951904, 3.1208999156951904, 3.1208999156951904, 3.1208999156951904, 3.1208999156951904, 3.1208999156951904, 3.120800018310547, 3.120800018310547, 3.120800018310547, 3.120800018310547, 3.120800018310547, 3.120699882507324, 3.120699882507324, 3.120699882507324, 3.120699882507324, 3.120699882507324, 3.1205999851226807, 3.1205999851226807, 3.1205999851226807, 3.1205999851226807, 3.1379001140594482, 3.1377999782562256, 3.1377999782562256, 3.1377999782562256, 3.1377999782562256, 3.1377999782562256, 3.1377999782562256, 3.1377999782562256, 3.1377999782562256, 3.1377999782562256, 3.137700080871582, 3.137700080871582, 3.137700080871582, 3.137700080871582, 3.137700080871582, 3.137700080871582, 3.1375999450683594, 3.1375999450683594, 3.1375999450683594, 3.137500047683716, 3.137500047683716, 3.137500047683716, 3.137500047683716, 3.137500047683716, 3.137500047683716, 3.137500047683716, 3.137399911880493, 3.137399911880493, 3.1373000144958496, 3.1373000144958496, 3.138200044631958, 3.138200044631958, 3.138200044631958, 3.138200044631958, 3.138200044631958, 3.1380999088287354, 3.1380999088287354, 3.1380999088287354, 3.1380999088287354, 3.1380999088287354, 3.1380999088287354, 3.1380999088287354, 3.1380999088287354, 3.1380999088287354, 3.1380999088287354, 3.138000011444092, 3.138000011444092, 3.138000011444092, 3.138000011444092, 3.138000011444092, 3.138000011444092, 3.1379001140594482, 3.1379001140594482, 3.1379001140594482, 3.1379001140594482, 3.1379001140594482, 3.1379001140594482, 3.1379001140594482, 3.1377999782562256, 3.1377999782562256, 3.157900094985962, 3.157900094985962, 3.157900094985962, 3.157900094985962, 3.157900094985962, 3.157900094985962, 3.157900094985962, 3.1577999591827393, 3.1577999591827393, 3.1577999591827393, 3.1577999591827393, 3.1577999591827393, 3.1577000617980957, 3.1577000617980957, 3.1577000617980957, 3.1577000617980957, 3.1577000617980957, 3.1577000617980957, 3.1577000617980957, 3.1577000617980957, 3.157599925994873, 3.157599925994873, 3.157599925994873, 3.157599925994873, 3.157599925994873, 3.157599925994873, 3.157599925994873, 3.157599925994873, 3.157599925994873, 3.157599925994873, 3.16729998588562, 3.16729998588562, 3.16729998588562, 3.1672000885009766, 3.1672000885009766, 3.167099952697754, 3.167099952697754, 3.167099952697754, 3.167099952697754, 3.167099952697754, 3.167099952697754, 3.167099952697754, 3.167099952697754, 3.1670000553131104, 3.1670000553131104, 3.1670000553131104, 3.1670000553131104, 3.1668999195098877, 3.1668999195098877, 3.1668999195098877, 3.1668999195098877, 3.1668999195098877, 3.1668999195098877, 3.166800022125244, 3.166800022125244, 3.166800022125244, 3.166800022125244, 3.166800022125244, 3.166800022125244, 3.166800022125244, 3.2079999446868896, 3.2079999446868896, 3.207900047302246, 3.207900047302246, 3.207900047302246, 3.207900047302246, 3.207900047302246, 3.2077999114990234, 3.2077999114990234, 3.2077999114990234, 3.2077999114990234, 3.20770001411438, 3.20770001411438, 3.20770001411438, 3.20770001411438, 3.20770001411438, 3.20770001411438, 3.2076001167297363, 3.2076001167297363, 3.2076001167297363, 3.2076001167297363, 3.2076001167297363, 3.2076001167297363, 3.2074999809265137, 3.2074999809265137, 3.2074999809265137, 3.2074999809265137, 3.2074999809265137, 3.2074999809265137, 3.2074999809265137, 3.2174999713897705, 3.2174999713897705, 3.217400074005127, 3.217400074005127, 3.217400074005127, 3.217400074005127, 3.217400074005127, 3.217400074005127, 3.2172999382019043, 3.2172999382019043, 3.2172000408172607, 3.2172000408172607, 3.2172000408172607, 3.2172000408172607, 3.2172000408172607, 3.2172000408172607, 3.2172000408172607, 3.217099905014038, 3.217099905014038, 3.217099905014038, 3.217099905014038, 3.217099905014038, 3.217099905014038, 3.217099905014038, 3.217099905014038, 3.217099905014038, 3.2170000076293945, 3.2170000076293945, 3.2170000076293945, 3.2170000076293945, 3.1138999462127686, 3.2523000240325928, 3.2523000240325928, 3.25219988822937, 3.25219988822937, 3.25219988822937, 3.25219988822937, 3.2520999908447266, 3.2520999908447266, 3.252000093460083, 3.252000093460083, 3.252000093460083, 3.252000093460083, 3.252000093460083, 3.252000093460083, 3.2518999576568604, 3.2518999576568604, 3.2518999576568604, 3.2518999576568604, 3.2518999576568604, 3.251800060272217, 3.251800060272217, 3.251800060272217, 3.251800060272217, 3.251800060272217, 3.251800060272217, 3.251699924468994, 3.251699924468994, 3.251699924468994, 3.251699924468994, 3.2516000270843506, 3.277600049972534, 3.2774999141693115, 3.2774999141693115, 3.2774999141693115, 3.2774999141693115, 3.2774999141693115, 3.277400016784668, 3.277400016784668, 3.277400016784668, 3.277400016784668, 3.277400016784668, 3.277400016784668, 3.2772998809814453, 3.2772998809814453, 3.2772998809814453, 3.2772998809814453, 3.2772998809814453, 3.2772998809814453, 3.2772998809814453, 3.2771999835968018, 3.2771999835968018, 3.2771999835968018, 3.277100086212158, 3.277100086212158, 3.277100086212158, 3.2769999504089355, 3.2769999504089355, 3.2769999504089355, 3.2769999504089355, 3.2769999504089355, 3.332900047302246, 3.3327999114990234, 3.3327999114990234, 3.3327999114990234, 3.3327999114990234, 3.3327999114990234, 3.3327999114990234, 3.33270001411438, 3.33270001411438, 3.33270001411438, 3.3326001167297363, 3.3326001167297363, 3.3326001167297363, 3.3326001167297363, 3.3326001167297363, 3.3324999809265137, 3.3324999809265137, 3.3324999809265137, 3.3324999809265137, 3.3324999809265137, 3.3324999809265137, 3.3324999809265137, 3.33240008354187, 3.33240008354187, 3.33240008354187, 3.33240008354187, 3.33240008354187, 3.33240008354187, 3.33240008354187, 3.3322999477386475, 3.341599941253662, 3.3415000438690186, 3.3415000438690186, 3.341399908065796, 3.341399908065796, 3.341399908065796, 3.341399908065796, 3.341399908065796, 3.3413000106811523, 3.3413000106811523, 3.3413000106811523, 3.341200113296509, 3.341200113296509, 3.341200113296509, 3.341200113296509, 3.341099977493286, 3.341099977493286, 3.341099977493286, 3.341099977493286, 3.341099977493286, 3.341099977493286, 3.341099977493286, 3.341099977493286, 3.3410000801086426, 3.3410000801086426, 3.3410000801086426, 3.3410000801086426, 3.3410000801086426, 3.34089994430542, 3.34089994430542], \"logprob\": [30.0, 29.0, 28.0, 27.0, 26.0, 25.0, 24.0, 23.0, 22.0, 21.0, 20.0, 19.0, 18.0, 17.0, 16.0, 15.0, 14.0, 13.0, 12.0, 11.0, 10.0, 9.0, 8.0, 7.0, 6.0, 5.0, 4.0, 3.0, 2.0, 1.0, -3.1140999794006348, -3.3055999279022217, -4.113100051879883, -4.230100154876709, -4.280600070953369, -4.32289981842041, -4.34499979019165, -4.38129997253418, -4.390999794006348, -4.569200038909912, -4.7052001953125, -4.7399001121521, -4.766200065612793, -4.787199974060059, -4.788700103759766, -4.809599876403809, -4.848400115966797, -4.861599922180176, -4.883600234985352, -4.895699977874756, -4.970200061798096, -4.979700088500977, -4.986599922180176, -5.045199871063232, -5.070799827575684, -5.119100093841553, -5.125699996948242, -5.143799781799316, -5.158100128173828, -5.160999774932861, -5.115300178527832, -3.1747000217437744, -3.4102001190185547, -3.5137999057769775, -3.5495998859405518, -3.7551000118255615, -3.9644999504089355, -4.046899795532227, -4.079999923706055, -4.160600185394287, -4.224899768829346, -4.268599987030029, -4.2733001708984375, -4.345799922943115, -4.36870002746582, -4.376500129699707, -4.389100074768066, -4.462399959564209, -4.491000175476074, -4.525700092315674, -4.6072001457214355, -4.671299934387207, -4.716000080108643, -4.771100044250488, -4.876399993896484, -4.8831000328063965, -4.884300231933594, -4.896200180053711, -4.925099849700928, -4.930099964141846, -5.020699977874756, -2.3887999057769775, -3.8029000759124756, -3.8371999263763428, -3.838099956512451, -3.86299991607666, -3.9214000701904297, -4.208799839019775, -4.242599964141846, -4.289999961853027, -4.308599948883057, -4.312300205230713, -4.344900131225586, -4.421299934387207, -4.492700099945068, -4.495699882507324, -4.536399841308594, -4.600299835205078, -4.627900123596191, -4.643099784851074, -4.6468000411987305, -4.735400199890137, -4.768400192260742, -4.797399997711182, -4.8242998123168945, -4.840199947357178, -4.877200126647949, -4.881999969482422, -4.8850998878479, -4.9496002197265625, -4.995800018310547, -2.240600109100342, -2.8461999893188477, -2.8757998943328857, -3.181999921798706, -3.404599905014038, -3.5422000885009766, -3.6184000968933105, -3.734800100326538, -3.7476999759674072, -4.088099956512451, -4.202499866485596, -4.3043999671936035, -4.649799823760986, -4.698599815368652, -4.821800231933594, -4.845300197601318, -4.914400100708008, -4.938300132751465, -4.985199928283691, -5.053800106048584, -5.065800189971924, -5.085100173950195, -5.095300197601318, -5.201300144195557, -5.33489990234375, -5.40880012512207, -5.422100067138672, -5.47599983215332, -5.512599945068359, -5.526700019836426, -3.011199951171875, -3.0508999824523926, -3.1001999378204346, -3.3210999965667725, -3.5092999935150146, -3.6159000396728516, -3.955399990081787, -4.15339994430542, -4.221499919891357, -4.24429988861084, -4.2617998123168945, -4.304299831390381, -4.357500076293945, -4.3582000732421875, -4.3968000411987305, -4.419099807739258, -4.490499973297119, -4.510300159454346, -4.5447998046875, -4.546299934387207, -4.594200134277344, -4.607600212097168, -4.693699836730957, -4.731200218200684, -4.7829999923706055, -4.820799827575684, -4.853099822998047, -4.863900184631348, -4.902400016784668, -4.902500152587891, -2.8310000896453857, -2.857800006866455, -2.893899917602539, -3.2541000843048096, -3.4245998859405518, -3.549499988555908, -3.967400074005127, -3.9816999435424805, -4.065400123596191, -4.179800033569336, -4.18149995803833, -4.224599838256836, -4.268700122833252, -4.280700206756592, -4.423900127410889, -4.600100040435791, -4.634300231933594, -4.66480016708374, -4.6743998527526855, -4.701499938964844, -4.737100124359131, -4.785999774932861, -4.89900016784668, -4.995299816131592, -5.0447001457214355, -5.077000141143799, -5.0854997634887695, -5.101900100708008, -5.118299961090088, -5.137800216674805, -2.8666999340057373, -3.12280011177063, -3.3050999641418457, -3.394399881362915, -3.5190999507904053, -3.725800037384033, -3.735300064086914, -3.890500068664551, -3.9242000579833984, -4.0019001960754395, -4.058800220489502, -4.118500232696533, -4.331600189208984, -4.353400230407715, -4.394100189208984, -4.434100151062012, -4.46619987487793, -4.492700099945068, -4.51140022277832, -4.548600196838379, -4.602399826049805, -4.648099899291992, -4.65880012512207, -4.7484002113342285, -4.761499881744385, -4.9334001541137695, -4.94890022277832, -4.9567999839782715, -4.9842000007629395, -4.990799903869629, -2.6659998893737793, -3.3733999729156494, -3.398099899291992, -3.4728000164031982, -3.6451001167297363, -3.7058000564575195, -3.708899974822998, -3.884700059890747, -3.9138998985290527, -3.9749999046325684, -4.05649995803833, -4.099800109863281, -4.214799880981445, -4.2322998046875, -4.344699859619141, -4.382900238037109, -4.399099826812744, -4.510900020599365, -4.525400161743164, -4.647600173950195, -4.653900146484375, -4.853799819946289, -4.883200168609619, -4.886899948120117, -5.027900218963623, -5.073599815368652, -5.109899997711182, -5.2052001953125, -5.221099853515625, -5.2316999435424805, -3.147700071334839, -3.211400032043457, -3.288300037384033, -3.647700071334839, -3.750499963760376, -3.836199998855591, -3.9553000926971436, -3.9697000980377197, -3.9727001190185547, -4.0644001960754395, -4.155300140380859, -4.2144999504089355, -4.2221999168396, -4.492300033569336, -4.5152997970581055, -4.543000221252441, -4.579100131988525, -4.60699987411499, -4.619999885559082, -4.658199787139893, -4.674799919128418, -4.799099922180176, -4.8003997802734375, -4.820899963378906, -4.972899913787842, -5.0569000244140625, -5.130000114440918, -5.130199909210205, -5.209799766540527, -5.213500022888184, -4.911799907684326, -2.3461999893188477, -2.722599983215332, -3.1898000240325928, -3.216200113296509, -3.4054999351501465, -3.8392999172210693, -3.8801000118255615, -4.235599994659424, -4.36359977722168, -4.4741997718811035, -4.505899906158447, -4.5177001953125, -4.5569000244140625, -4.556600093841553, -4.593599796295166, -4.594099998474121, -4.685200214385986, -4.823400020599365, -4.842700004577637, -4.856900215148926, -4.889599800109863, -4.929999828338623, -4.946700096130371, -5.022799968719482, -5.022900104522705, -5.072999954223633, -5.09660005569458, -5.107100009918213, -5.110499858856201, -5.1493000984191895, -2.9862000942230225, -3.3742001056671143, -3.4059998989105225, -3.4965999126434326, -3.6270999908447266, -3.642400026321411, -3.6816999912261963, -3.740600109100342, -3.7741000652313232, -3.950500011444092, -4.091700077056885, -4.197299957275391, -4.229499816894531, -4.2403998374938965, -4.28980016708374, -4.292399883270264, -4.5065999031066895, -4.52269983291626, -4.619500160217285, -4.755000114440918, -4.788400173187256, -4.800899982452393, -4.810299873352051, -4.818299770355225, -4.847300052642822, -4.8790998458862305, -5.003699779510498, -5.008500099182129, -5.136000156402588, -5.136300086975098, -2.7469000816345215, -3.37719988822937, -3.469899892807007, -3.563999891281128, -3.594899892807007, -3.873699903488159, -4.005300045013428, -4.03249979019165, -4.099699974060059, -4.136199951171875, -4.186600208282471, -4.195499897003174, -4.21019983291626, -4.220600128173828, -4.223299980163574, -4.25439977645874, -4.307400226593018, -4.428100109100342, -4.512199878692627, -4.584799766540527, -4.585999965667725, -4.651000022888184, -4.685500144958496, -4.710100173950195, -4.715400218963623, -4.73330020904541, -4.746799945831299, -4.838399887084961, -4.8516998291015625, -4.952199935913086, -2.9892001152038574, -3.3194000720977783, -3.4779999256134033, -3.644399881362915, -3.662899971008301, -3.6898000240325928, -3.696700096130371, -3.906599998474121, -3.940000057220459, -4.123499870300293, -4.136600017547607, -4.2947001457214355, -4.320000171661377, -4.388199806213379, -4.397500038146973, -4.411499977111816, -4.430799961090088, -4.441299915313721, -4.551000118255615, -4.629199981689453, -4.644700050354004, -4.672500133514404, -4.743500232696533, -4.764599800109863, -4.770599842071533, -4.773799896240234, -4.781300067901611, -4.822700023651123, -4.852399826049805, -4.868599891662598, -2.5843000411987305, -2.7644999027252197, -3.3661999702453613, -3.816499948501587, -4.054800033569336, -4.298900127410889, -4.401199817657471, -4.416800022125244, -4.430500030517578, -4.445899963378906, -4.4542999267578125, -4.47130012512207, -4.479000091552734, -4.568699836730957, -4.672599792480469, -4.687600135803223, -4.747300148010254, -4.786200046539307, -4.810100078582764, -4.863999843597412, -4.909800052642822, -4.912899971008301, -4.940100193023682, -4.983799934387207, -5.007500171661377, -5.019400119781494, -5.02370023727417, -5.028900146484375, -5.029900074005127, -5.031899929046631, -2.9477999210357666, -3.045599937438965, -3.464400053024292, -3.47979998588562, -3.57450008392334, -3.9042000770568848, -3.927000045776367, -4.163099765777588, -4.181099891662598, -4.303899765014648, -4.335299968719482, -4.542500019073486, -4.545899868011475, -4.5680999755859375, -4.629700183868408, -4.6433000564575195, -4.6483001708984375, -4.715700149536133, -4.749599933624268, -4.832699775695801, -4.843999862670898, -4.86299991607666, -4.864799976348877, -4.881700038909912, -4.883299827575684, -4.887899875640869, -4.928800106048584, -4.991399765014648, -5.039299964904785, -5.051599979400635, -3.3921000957489014, -3.403700113296509, -3.6698999404907227, -3.6942999362945557, -3.856800079345703, -3.880199909210205, -4.021900177001953, -4.060999870300293, -4.333700180053711, -4.344099998474121, -4.46150016784668, -4.46750020980835, -4.481599807739258, -4.534299850463867, -4.541100025177002, -4.604899883270264, -4.636300086975098, -4.711900234222412, -4.73799991607666, -4.753300189971924, -4.787199974060059, -4.802599906921387, -4.804699897766113, -4.867000102996826, -4.882199764251709, -4.906499862670898, -4.970600128173828, -5.043799877166748, -5.051300048828125, -5.055099964141846, -4.504899978637695, -1.969499945640564, -2.9946000576019287, -3.310800075531006, -3.6308000087738037, -3.7723000049591064, -3.9200000762939453, -4.130300045013428, -4.307400226593018, -4.45550012588501, -4.475500106811523, -4.525100231170654, -4.570199966430664, -4.593999862670898, -4.622499942779541, -4.64139986038208, -4.650599956512451, -4.7565999031066895, -4.795599937438965, -4.799099922180176, -4.886099815368652, -4.90369987487793, -4.918900012969971, -4.931000232696533, -4.987100124359131, -5.015999794006348, -5.052499771118164, -5.07450008392334, -5.088399887084961, -5.1269001960754395, -5.26170015335083, -2.782399892807007, -3.3682000637054443, -3.6379001140594482, -3.946199893951416, -3.949700117111206, -3.9656999111175537, -4.035900115966797, -4.096099853515625, -4.225399971008301, -4.236599922180176, -4.2743000984191895, -4.358699798583984, -4.386199951171875, -4.445199966430664, -4.446599960327148, -4.464700222015381, -4.523099899291992, -4.532100200653076, -4.5472002029418945, -4.63700008392334, -4.776700019836426, -4.830100059509277, -4.913000106811523, -4.921500205993652, -4.935400009155273, -5.049799919128418, -5.07919979095459, -5.098100185394287, -5.108500003814697, -5.112199783325195, -3.1624999046325684, -3.4709999561309814, -3.578900098800659, -3.645900011062622, -3.6847000122070312, -3.819499969482422, -3.8833000659942627, -4.1128997802734375, -4.11899995803833, -4.252299785614014, -4.431000232696533, -4.446100234985352, -4.50439977645874, -4.521299839019775, -4.552999973297119, -4.620299816131592, -4.629799842834473, -4.635900020599365, -4.671199798583984, -4.676700115203857, -4.68310022354126, -4.761300086975098, -4.830999851226807, -4.832699775695801, -4.889800071716309, -4.906000137329102, -4.9253997802734375, -4.979300022125244, -4.988399982452393, -5.0065999031066895, -2.8364999294281006, -3.347899913787842, -3.57450008392334, -3.804500102996826, -3.8199000358581543, -3.9951999187469482, -4.0121002197265625, -4.11899995803833, -4.219799995422363, -4.23829984664917, -4.453999996185303, -4.503499984741211, -4.591400146484375, -4.652699947357178, -4.714900016784668, -4.748499870300293, -4.763599872589111, -4.773600101470947, -4.789299964904785, -4.823500156402588, -4.845699787139893, -4.8993000984191895, -4.899600028991699, -4.967199802398682, -5.022200107574463, -5.04449987411499, -5.051700115203857, -5.053899765014648, -5.0817999839782715, -5.116199970245361]}, \"token.table\": {\"Topic\": [14, 17, 2, 17, 10, 12, 6, 10, 1, 3, 11, 17, 3, 6, 18, 3, 9, 10, 6, 4, 15, 17, 20, 18, 12, 18, 13, 17, 15, 4, 7, 4, 12, 17, 10, 19, 5, 8, 2, 10, 16, 2, 20, 19, 19, 11, 3, 6, 7, 13, 16, 16, 16, 17, 5, 10, 6, 16, 2, 2, 4, 15, 15, 9, 18, 19, 3, 3, 15, 9, 12, 9, 7, 4, 8, 13, 11, 19, 1, 13, 19, 9, 4, 5, 13, 4, 12, 4, 3, 8, 4, 19, 20, 14, 17, 7, 6, 19, 11, 11, 6, 20, 14, 6, 18, 8, 20, 6, 10, 5, 14, 15, 14, 17, 13, 13, 10, 9, 7, 20, 20, 11, 18, 13, 8, 6, 11, 17, 1, 20, 1, 1, 4, 5, 20, 7, 11, 19, 19, 17, 12, 3, 13, 15, 10, 16, 2, 2, 16, 12, 5, 18, 2, 11, 1, 10, 2, 7, 20, 4, 6, 6, 3, 8, 4, 20, 11, 15, 18, 6, 18, 10, 12, 9, 1, 2, 13, 3, 5, 20, 8, 16, 2, 8, 17, 7, 5, 17, 5, 1, 14, 10, 12, 9, 10, 17, 15, 19, 6, 20, 18, 5, 12, 7, 14, 2, 18, 4, 20, 18, 18, 14, 10, 10, 1, 13, 10, 11, 8, 1, 12, 18, 2, 3, 13, 4, 15, 7, 14, 18, 9, 12, 8, 4, 10, 8, 5, 1, 12, 20, 10, 8, 19, 1, 8, 9, 11, 3, 20, 4, 8, 15, 16, 10, 12, 18, 2, 17, 13, 5, 9, 3, 14, 14, 12, 7, 12, 20, 19, 19, 2, 6, 12, 9, 13, 8, 1, 3, 2, 15, 15, 11, 12, 16, 19, 8, 10, 18, 17, 7, 13, 9, 19, 12, 2, 4, 10, 3, 17, 15, 16, 19, 8, 12, 13, 2, 1, 2, 3, 6, 8, 9, 11, 13, 16, 17, 4, 2, 12, 17, 8, 1, 9, 11, 16, 13, 14, 2, 7, 9, 18, 9, 12, 5, 20, 15, 13, 19, 5, 14, 11, 4, 15, 1, 2, 9, 15, 16, 8, 7, 16, 1, 11, 12, 11, 13, 15, 16, 2, 5, 5, 7, 19, 5, 3, 3, 15, 19, 5, 13, 18, 3, 15, 8, 14, 1, 14, 5, 7, 5, 11, 6, 20, 5, 15, 15, 18, 17, 10, 8, 18, 20, 6, 3, 15, 17, 7, 6, 16, 7, 2, 20, 10, 7, 8, 20, 9, 4, 1, 5, 18, 20, 10, 14, 4, 9, 6, 4, 6, 4, 12, 2, 17, 17, 4, 7, 8, 6, 4, 16, 16, 18, 16, 2, 2, 16, 17, 7, 6, 12, 10, 7, 4, 8, 1, 1, 17, 3, 15, 18, 9, 6, 20, 13, 3, 7, 18, 8, 1, 14, 14, 10, 5, 5, 7, 9, 16, 1, 17, 4, 17, 9, 19, 5, 19, 20, 13, 9, 3, 11, 9, 7, 15, 12, 13, 3, 1, 1, 6, 14, 18, 3, 16, 1, 5, 14, 8, 16, 16, 7, 14, 11, 15, 14, 16, 7, 12, 11, 7, 19, 11, 5, 5, 1, 3, 15, 13, 5, 8, 20, 9, 11, 3, 1, 20, 16, 15, 2, 9, 18, 8, 3, 10, 5, 14, 17, 9, 13, 14, 3, 1, 6, 6, 13, 10, 14, 11, 20, 11, 14, 9, 15, 7, 1, 19, 6, 15, 8, 10, 16, 6, 11, 17, 17, 1, 3, 14, 14, 9, 19, 16, 4, 20, 19, 9, 13, 18, 19, 16, 4, 6, 14, 9, 12, 11, 19, 2, 2, 9, 17, 12, 4, 16, 2, 13, 11, 13, 13, 7, 19, 11, 10, 3, 18, 19, 6, 12, 15, 2, 1, 14, 7, 8, 11, 16, 20, 18], \"Freq\": [0.999282717704773, 0.9998905658721924, 0.9997857809066772, 0.9994080662727356, 0.9999604821205139, 0.9998867511749268, 0.9999589323997498, 0.9994833469390869, 0.999888002872467, 0.9996604323387146, 0.9997111558914185, 0.9995196461677551, 0.999497652053833, 0.9997259974479675, 0.9993969202041626, 0.9998446106910706, 0.9997300505638123, 0.999664843082428, 0.9993433356285095, 0.9993475079536438, 0.9998078346252441, 0.9994340538978577, 0.9996675848960876, 0.9996691942214966, 0.9998756051063538, 0.9998172521591187, 0.9999070763587952, 0.9994878768920898, 0.9999517202377319, 0.9997088313102722, 0.9998927116394043, 0.9989110231399536, 0.9998151063919067, 0.9999658465385437, 0.9999529123306274, 0.9991670846939087, 0.9996968507766724, 0.9999456405639648, 0.9996459484100342, 0.9995370507240295, 0.9999279975891113, 0.9997634887695312, 0.9990437030792236, 0.9997963905334473, 0.9995071887969971, 0.9996647834777832, 0.9998993277549744, 0.9996259212493896, 0.9998881220817566, 0.9998779296875, 0.9993417859077454, 0.9995080232620239, 0.9997570514678955, 0.9993206262588501, 0.9997079968452454, 0.9997776746749878, 0.9993108510971069, 0.9995288848876953, 0.9995375275611877, 0.9997137188911438, 0.9994103312492371, 0.9997804760932922, 0.9993177652359009, 0.9999426007270813, 0.9995601773262024, 0.9995538592338562, 0.9997795224189758, 0.9995784163475037, 0.9992358088493347, 0.9996678233146667, 0.9996565580368042, 0.9990841150283813, 0.9996742606163025, 0.999936580657959, 0.9997847676277161, 0.999858558177948, 0.9995448589324951, 0.9991121888160706, 0.9999326467514038, 0.9996896982192993, 0.9991748332977295, 0.999729573726654, 0.9994187951087952, 0.9998740553855896, 0.999917209148407, 0.9996777176856995, 0.9997639060020447, 0.9990258812904358, 0.999644935131073, 0.9998963475227356, 0.9999747276306152, 0.9996265769004822, 0.9999236464500427, 0.999853789806366, 0.9999158382415771, 0.9999369382858276, 0.9995323419570923, 0.9997266530990601, 0.9998056888580322, 0.9999383687973022, 0.9997864365577698, 0.9993665218353271, 0.9995774626731873, 0.9995657205581665, 0.9994072318077087, 0.9997984766960144, 0.999294638633728, 0.9997854828834534, 0.9996337294578552, 0.9996285438537598, 0.9996039271354675, 0.9997528195381165, 0.9998211860656738, 0.9999348521232605, 0.9998189210891724, 0.999745786190033, 0.999930739402771, 0.9999446868896484, 0.9993889927864075, 0.9996581673622131, 0.9996752142906189, 0.9994816184043884, 0.9998193383216858, 0.9998283982276917, 0.9998442530632019, 0.9996300935745239, 0.9990792274475098, 0.9996666312217712, 0.9999022483825684, 0.9997488856315613, 0.9999712109565735, 0.9999222159385681, 0.9999202489852905, 0.9999050498008728, 0.9998470544815063, 0.9998743534088135, 0.9998618960380554, 0.9995169639587402, 0.9998221397399902, 0.9996611475944519, 0.9997099041938782, 0.9998266100883484, 0.9995576739311218, 0.9999257326126099, 0.999777615070343, 0.9994624853134155, 0.999880313873291, 0.9998061060905457, 0.999756395816803, 0.999818742275238, 0.9995457530021667, 0.9991365075111389, 0.9995927810668945, 0.9997888803482056, 0.9997856020927429, 0.9995139837265015, 0.9998335242271423, 0.9999430775642395, 0.9991021752357483, 0.9993450045585632, 0.9999536871910095, 0.999556839466095, 0.999935507774353, 0.9998455047607422, 0.9993569254875183, 0.9995840787887573, 0.9993909597396851, 0.999276340007782, 0.9998162388801575, 0.9994054436683655, 0.999782919883728, 0.9998950362205505, 0.9998640418052673, 0.9996920228004456, 0.999911367893219, 0.9999373555183411, 0.9997777342796326, 0.9998517632484436, 0.999721109867096, 0.9997988939285278, 0.999352216720581, 0.999759316444397, 0.9998419880867004, 0.9996243715286255, 0.9996515512466431, 0.999779999256134, 0.9999449253082275, 0.9990434050559998, 0.9999406337738037, 0.9999651312828064, 0.9993463158607483, 0.9998053908348083, 0.9994571805000305, 0.9997873306274414, 0.9997857213020325, 0.9992462396621704, 0.9997438192367554, 0.9996485114097595, 0.9999231696128845, 0.9995121359825134, 0.9991202354431152, 0.9998831152915955, 0.9994155764579773, 0.9998365640640259, 0.9996892809867859, 0.9995787739753723, 0.9996461272239685, 0.9997553825378418, 0.9995487928390503, 0.9996694326400757, 0.9994115233421326, 0.9993795156478882, 0.9991739392280579, 0.9995800256729126, 0.9999103546142578, 0.9996506571769714, 0.9997409582138062, 0.9998503923416138, 0.999596357345581, 0.999863862991333, 0.9999328851699829, 0.9996849894523621, 0.9995645880699158, 0.9997090101242065, 0.9997583031654358, 0.9995864629745483, 0.9995586276054382, 0.9996054172515869, 0.9996322989463806, 0.9994816184043884, 0.9996694326400757, 0.9997379779815674, 0.9998164772987366, 0.9998893141746521, 0.999954879283905, 0.9994658827781677, 0.9996885061264038, 0.9998865723609924, 0.9998819828033447, 0.9999210834503174, 0.9994215369224548, 0.9999339580535889, 0.9997813105583191, 0.9999291300773621, 0.999137818813324, 0.9996379613876343, 0.9998432397842407, 0.9995745420455933, 0.9992551803588867, 0.999563455581665, 0.9991970658302307, 0.9993972182273865, 0.9995764493942261, 0.9994684457778931, 0.9996097087860107, 0.9998204112052917, 0.9998443126678467, 0.9993557333946228, 0.9996758103370667, 0.9998496770858765, 0.999870777130127, 0.9997810125350952, 0.9995766282081604, 0.9995744228363037, 0.9997700452804565, 0.9997509717941284, 0.9998652935028076, 0.9990455508232117, 0.9997113943099976, 0.9995601773262024, 0.9998244047164917, 0.9996982216835022, 0.9995418787002563, 0.9997444152832031, 0.9992901086807251, 0.9997026324272156, 0.9998862743377686, 0.9993786215782166, 0.9997996091842651, 0.9995574951171875, 0.9996787309646606, 0.9999536275863647, 0.9995245933532715, 0.9996764659881592, 0.9997597932815552, 0.9998618960380554, 0.9995793700218201, 0.9999080300331116, 0.9998892545700073, 0.9999194741249084, 0.999565839767456, 0.9996482729911804, 0.9998323917388916, 0.999595046043396, 0.9998010396957397, 0.9998778104782104, 0.9997636079788208, 0.9998144507408142, 0.9991581439971924, 0.9995306730270386, 0.9995929002761841, 0.9998418092727661, 0.9995395541191101, 0.9998646378517151, 0.9995782971382141, 0.9999423027038574, 0.8832725286483765, 0.03696752339601517, 0.0017945398576557636, 0.003050717758014798, 0.025123558938503265, 0.0021534478291869164, 0.0016150858718901873, 0.011126147583127022, 0.020816663280129433, 0.013997411355376244, 0.999972403049469, 0.9998495578765869, 0.9997357130050659, 0.9997023940086365, 0.9993943572044373, 0.9999297857284546, 0.9998025298118591, 0.9996142387390137, 0.9995999336242676, 0.9997201561927795, 0.9994461536407471, 0.9999517202377319, 0.9996786117553711, 0.9991914629936218, 0.9996318817138672, 0.9994332790374756, 0.9997813701629639, 0.9999426007270813, 0.9995167851448059, 0.9997350573539734, 0.9997200965881348, 0.9995995163917542, 0.9997466802597046, 0.9999309778213501, 0.9997769594192505, 0.9998869895935059, 0.9996002316474915, 0.05260149762034416, 0.0015471028164029121, 0.00038677570410072803, 0.04370565339922905, 0.9015741944313049, 0.9998371601104736, 0.9999494552612305, 0.9998216032981873, 0.9999666810035706, 0.999682605266571, 0.9997090101242065, 0.9993202686309814, 0.9998389482498169, 0.9998090863227844, 0.999625563621521, 0.999862015247345, 0.9994683861732483, 0.9998807907104492, 0.9999523758888245, 0.9998385310173035, 0.9997909665107727, 0.9998167157173157, 0.9996814131736755, 0.9992094039916992, 0.9997644424438477, 0.9996965527534485, 0.9998754262924194, 0.9994452595710754, 0.9995666146278381, 0.999614417552948, 0.9996604919433594, 0.9998108744621277, 0.9999129176139832, 0.9997569918632507, 0.9996352195739746, 0.9996376633644104, 0.9997480511665344, 0.9998683929443359, 0.9998424649238586, 0.9995136260986328, 0.9998877644538879, 0.999586820602417, 0.9994413256645203, 0.999466598033905, 0.9998345375061035, 0.9996481537818909, 0.9996189475059509, 0.9997234344482422, 0.9995920658111572, 0.9995694160461426, 0.9999489188194275, 0.9992943406105042, 0.9997625946998596, 0.999251663684845, 0.9998711943626404, 0.9999399185180664, 0.999625027179718, 0.9997314214706421, 0.9996545910835266, 0.9998980164527893, 0.9996216297149658, 0.9997625946998596, 0.9989877343177795, 0.9997634291648865, 0.9994677305221558, 0.9998693466186523, 0.9996709227561951, 0.9997604489326477, 0.9992781281471252, 0.9996377825737, 0.9993006587028503, 0.9996902942657471, 0.9998205304145813, 0.9998062252998352, 0.9999002814292908, 0.9999696612358093, 0.9996330738067627, 0.9997785091400146, 0.9996479153633118, 0.9995530247688293, 0.9993902444839478, 0.9997580647468567, 0.9996854066848755, 0.9998248219490051, 0.999674379825592, 0.9999203681945801, 0.9996432065963745, 0.9994274973869324, 0.9999023675918579, 0.9996978640556335, 0.9997285604476929, 0.9998217225074768, 0.9996615648269653, 0.9993523955345154, 0.9999438524246216, 0.9996811151504517, 0.9997038245201111, 0.9998501539230347, 0.9992503523826599, 0.9998826384544373, 0.999864935874939, 0.9998217225074768, 0.9999387860298157, 0.9993351101875305, 0.9999201893806458, 0.9997925758361816, 0.9996434450149536, 0.9998669624328613, 0.9998398423194885, 0.9990965127944946, 0.9996396899223328, 0.99968421459198, 0.9998918175697327, 0.9994635581970215, 0.9997655153274536, 0.9999430179595947, 0.9994872212409973, 0.9997513294219971, 0.9995476007461548, 0.9997639060020447, 0.9996055364608765, 0.01061269175261259, 0.9892145991325378, 0.9997482895851135, 0.9999693036079407, 0.9995702505111694, 0.9992998838424683, 0.9993654489517212, 0.9999342560768127, 0.9997926354408264, 0.9998747110366821, 0.9994485974311829, 0.9998582005500793, 0.9995405673980713, 0.9997671842575073, 0.9995758533477783, 0.9998542070388794, 0.9997546076774597, 0.9996070265769958, 0.9995578527450562, 0.9999256730079651, 0.9997330904006958, 0.9998570084571838, 0.9998971819877625, 0.9998299479484558, 0.9998984932899475, 0.9996353387832642, 0.9996380805969238, 0.9998063445091248, 0.9997578263282776, 0.9998819231987, 0.999627411365509, 0.9992988109588623, 0.9997592568397522, 0.999901533126831, 0.9995802044868469, 0.9997326731681824, 0.9996649026870728, 0.999897301197052, 0.9996848702430725, 0.9994065165519714, 0.9992860555648804, 0.9997655153274536, 0.9997801184654236, 0.9996684789657593, 0.9998193979263306, 0.9994200468063354, 0.9997990131378174, 0.9997076392173767, 0.9994077682495117, 0.9999403953552246, 0.9997273683547974, 0.9998040795326233, 0.9998162984848022, 0.9998635053634644, 0.9998685717582703, 0.9998711347579956, 0.999801754951477, 0.9998326897621155, 0.9997599124908447, 0.9998670220375061, 0.9993226528167725, 0.9997608065605164, 0.999325156211853, 0.9997686743736267, 0.9997311234474182, 0.9993765950202942, 0.9995219707489014, 0.9997761845588684, 0.9998099207878113, 0.9997212290763855, 0.9999498128890991, 0.9995718002319336, 0.999530553817749, 0.9999406933784485, 0.9994222521781921, 0.9998978972434998, 0.9998845458030701, 0.9997387528419495, 0.9995682835578918, 0.9996071457862854, 0.9992080330848694, 0.999516487121582, 0.999950110912323, 0.9996631741523743, 0.9999087452888489, 0.9994933605194092, 0.9994907975196838, 0.9996813535690308, 0.9996199011802673, 0.9998396635055542, 0.9995418190956116, 0.9996929168701172, 0.999554455280304, 0.9995498061180115, 0.9997510313987732, 0.9994535446166992, 0.9997206926345825, 0.9999012351036072, 0.9994671940803528, 0.999707818031311, 0.9997830390930176, 0.9995407462120056, 0.9999331831932068, 0.9997949600219727, 0.9997830390930176, 0.9998923540115356, 0.9994439482688904, 0.9997977614402771, 0.9998077750205994, 0.9996543526649475, 0.9997988343238831, 0.9998159408569336, 0.9995179772377014, 0.9998412728309631, 0.999620795249939, 0.9993088841438293, 0.9997783303260803, 0.9995103478431702, 0.9998403787612915, 0.999437153339386, 0.999437689781189, 0.9998265504837036, 0.9999224543571472, 0.9997621178627014, 0.9998738765716553, 0.9995654821395874, 0.9998505115509033, 0.9994550347328186, 0.9998420476913452, 0.9996881484985352, 0.9997019171714783, 0.9998095631599426, 0.9994978308677673, 0.999841034412384, 0.9997974634170532, 0.9997174143791199, 0.9998061656951904, 0.9994288682937622, 0.999846339225769, 0.9999032020568848, 0.9997043013572693, 0.9999147653579712, 0.9998496770858765, 0.9998857378959656, 0.999816358089447, 0.9999741315841675, 0.9998613595962524, 0.9994996786117554, 0.9999746084213257, 0.9997527599334717, 0.9997198581695557, 0.9997820258140564, 0.9995971918106079], \"Term\": [\"abc\", \"aboriginal\", \"abuse\", \"access\", \"accuse\", \"act\", \"adelaide\", \"affect\", \"afl\", \"age\", \"ahead\", \"aid\", \"air\", \"airport\", \"alexander\", \"allegation\", \"allege\", \"allegedly\", \"allow\", \"andrew\", \"announce\", \"apartment\", \"apologis\", \"appeal\", \"arrest\", \"arrive\", \"art\", \"artist\", \"ash\", \"assault\", \"attack\", \"attempt\", \"aussie\", \"australia\", \"australian\", \"away\", \"baby\", \"back\", \"bad\", \"bali\", \"ban\", \"bank\", \"base\", \"battle\", \"be\", \"beach\", \"beat\", \"become\", \"big\", \"bill\", \"blame\", \"blast\", \"block\", \"board\", \"body\", \"bomb\", \"book\", \"boost\", \"boss\", \"boy\", \"breach\", \"break\", \"bridge\", \"brisbane\", \"british\", \"budget\", \"build\", \"building\", \"burke\", \"burn\", \"bus\", \"bushfire\", \"business\", \"call\", \"canberra\", \"cancer\", \"candidate\", \"capital\", \"car\", \"care\", \"career\", \"case\", \"cash\", \"catch\", \"celebrate\", \"central\", \"centre\", \"century\", \"challenge\", \"change\", \"charge\", \"chase\", \"child\", \"china\", \"chinese\", \"christma\", \"church\", \"citizenship\", \"city\", \"claim\", \"close\", \"club\", \"coal\", \"coalition\", \"cold\", \"come\", \"comment\", \"community\", \"company\", \"confirm\", \"consider\", \"continue\", \"cost\", \"could\", \"council\", \"couple\", \"court\", \"crash\", \"create\", \"cricket\", \"crisis\", \"crow\", \"cup\", \"curious\", \"cut\", \"damage\", \"dance\", \"dangerous\", \"darwin\", \"datum\", \"day\", \"dead\", \"deal\", \"death\", \"debate\", \"december\", \"decision\", \"declare\", \"defence\", \"defend\", \"deliver\", \"demand\", \"deny\", \"die\", \"director\", \"discuss\", \"do\", \"doctor\", \"dog\", \"dollar\", \"domestic_violence\", \"double\", \"draw\", \"drive\", \"driver\", \"drone\", \"drop\", \"drug\", \"dump\", \"early\", \"election\", \"emergency\", \"end\", \"england\", \"escape\", \"ever\", \"evidence\", \"expect\", \"expert\", \"explain\", \"eye\", \"face\", \"fail\", \"fake\", \"fall\", \"family\", \"farm\", \"fatal\", \"father\", \"fear\", \"female\", \"festival\", \"fight\", \"film\", \"fin\", \"final\", \"find\", \"finding\", \"fire\", \"first\", \"fish\", \"flight\", \"flinder\", \"flood\", \"fly\", \"follow\", \"food\", \"football\", \"force\", \"foreign\", \"form\", \"former\", \"fraud\", \"free\", \"french\", \"full\", \"fund\", \"funding\", \"funeral\", \"game\", \"gas\", \"gay\", \"george\", \"german\", \"get\", \"girl\", \"give\", \"go\", \"gold_coast\", \"good\", \"government\", \"grand_final\", \"great\", \"green\", \"group\", \"guilty\", \"gun\", \"hand\", \"happen\", \"harvey\", \"head\", \"health\", \"hear\", \"help\", \"high\", \"historic\", \"history\", \"hit\", \"hobart\", \"hold\", \"holiday\", \"home\", \"hope\", \"hospital\", \"hot\", \"hour\", \"house\", \"housing\", \"human\", \"human_right\", \"hundred\", \"ice\", \"impact\", \"incident\", \"increase\", \"india\", \"indigenous\", \"indonesia\", \"injure\", \"inquest\", \"inquiry\", \"interview\", \"investigate\", \"investigation\", \"island\", \"issue\", \"jail\", \"jame\", \"japan\", \"jerusalem\", \"job\", \"join\", \"journalist\", \"judge\", \"justice\", \"keep\", \"kill\", \"killer\", \"know\", \"korea\", \"korean\", \"labor\", \"las_vegas\", \"last\", \"late\", \"law\", \"lawyer\", \"lead\", \"leader\", \"league\", \"learn\", \"least\", \"leave\", \"legal\", \"liberal\", \"life\", \"light\", \"link\", \"loan\", \"london\", \"long\", \"lose\", \"love\", \"low\", \"major\", \"make\", \"malcolm_turnbull\", \"malcolm_turnbull\", \"malcolm_turnbull\", \"malcolm_turnbull\", \"malcolm_turnbull\", \"malcolm_turnbull\", \"malcolm_turnbull\", \"malcolm_turnbull\", \"malcolm_turnbull\", \"malcolm_turnbull\", \"man\", \"mark\", \"market\", \"mass\", \"match\", \"may\", \"mayor\", \"mean\", \"medium\", \"meet\", \"meeting\", \"melbourne\", \"mental_health\", \"message\", \"michael\", \"military\", \"minister\", \"miss\", \"missile\", \"moment\", \"money\", \"month\", \"mother\", \"move\", \"mp\", \"murder\", \"music\", \"myanmar\", \"myanmar\", \"myanmar\", \"myanmar\", \"myanmar\", \"name\", \"national\", \"need\", \"new\", \"newcastle\", \"news\", \"next\", \"north\", \"north_korea\", \"northern\", \"not\", \"november\", \"nrl\", \"nsw\", \"nt\", \"october\", \"offer\", \"officer\", \"official\", \"old\", \"online\", \"open\", \"origin\", \"outback\", \"owner\", \"parent\", \"park\", \"parliament\", \"part\", \"party\", \"pass\", \"patient\", \"pay\", \"people\", \"person\", \"perth\", \"peter\", \"phone\", \"photo\", \"plan\", \"plane\", \"plant\", \"play\", \"pm\", \"point\", \"police\", \"policy\", \"political\", \"politician\", \"post\", \"power\", \"prepare\", \"president\", \"pressure\", \"price\", \"prison\", \"prisoner\", \"private\", \"problem\", \"profit\", \"program\", \"project\", \"promise\", \"prompt\", \"property\", \"protect\", \"protection\", \"protester\", \"push\", \"qld\", \"queensland\", \"quit\", \"quiz\", \"race\", \"raid\", \"rally\", \"rape\", \"rare\", \"rate\", \"ready\", \"record\", \"reflect\", \"reform\", \"refugee\", \"regional\", \"release\", \"remain\", \"remove\", \"replace\", \"report\", \"rescue\", \"resident\", \"resign\", \"respond\", \"result\", \"return\", \"reveal\", \"review\", \"richmond\", \"right\", \"rise\", \"risk\", \"river\", \"road\", \"robert\", \"rock\", \"royal\", \"royal_commission\", \"rugby\", \"rule\", \"run\", \"rural\", \"russia\", \"russian\", \"s\", \"safe\", \"sam_dastyari\", \"sam_dastyari\", \"save\", \"say\", \"scandal\", \"scene\", \"scheme\", \"school\", \"sea\", \"search\", \"seat\", \"secret\", \"security\", \"see\", \"seek\", \"sell\", \"senate\", \"senator\", \"send\", \"sentence\", \"september\", \"service\", \"set\", \"sex\", \"sex_marriage\", \"sexual_assault\", \"share\", \"shoot\", \"shooting\", \"show\", \"sign\", \"site\", \"smith\", \"socceroo\", \"solar\", \"soldier\", \"son\", \"south\", \"southern\", \"space\", \"spark\", \"speak\", \"sport\", \"spot\", \"stab\", \"stadium\", \"staff\", \"star\", \"start\", \"state\", \"station\", \"steal\", \"step\", \"still\", \"storm\", \"story\", \"street\", \"strike\", \"struggle\", \"student\", \"submarine\", \"success\", \"suicide\", \"summer\", \"sunshine_coast\", \"super\", \"surf\", \"survey\", \"survivor\", \"suspect\", \"sydney\", \"syria\", \"system\", \"take\", \"tas\", \"tasmania\", \"tasmanian\", \"tax\", \"teacher\", \"team\", \"tech\", \"technology\", \"tell\", \"terror\", \"test\", \"thing\", \"think\", \"threat\", \"threaten\", \"time\", \"title\", \"top\", \"tour\", \"tourist\", \"town\", \"track\", \"trade\", \"train\", \"travel\", \"treatment\", \"trial\", \"truck\", \"trump\", \"try\", \"turn\", \"turnbull\", \"university\", \"urge\", \"use\", \"veteran\", \"victim\", \"victoria\", \"victory\", \"video\", \"violence\", \"vision\", \"visit\", \"volunteer\", \"vote\", \"voter\", \"walk\", \"wall_street\", \"want\", \"war\", \"warn\", \"warning\", \"waste\", \"watch\", \"water\", \"weather\", \"wedding\", \"week\", \"welcome\", \"west\", \"western\", \"whale\", \"white\", \"wife\", \"will\", \"win\", \"winner\", \"woman\", \"women\", \"work\", \"worker\", \"world\", \"would\", \"wrap\", \"year\", \"year_old\", \"york\", \"young\", \"youth\"]}, \"R\": 30, \"lambda.step\": 0.01, \"plot.opts\": {\"xlab\": \"PC1\", \"ylab\": \"PC2\"}, \"topic.order\": [14, 8, 17, 15, 5, 3, 16, 20, 19, 11, 4, 7, 6, 10, 1, 12, 13, 18, 9, 2]};\n",
       "\n",
       "function LDAvis_load_lib(url, callback){\n",
       "  var s = document.createElement('script');\n",
       "  s.src = url;\n",
       "  s.async = true;\n",
       "  s.onreadystatechange = s.onload = callback;\n",
       "  s.onerror = function(){console.warn(\"failed to load library \" + url);};\n",
       "  document.getElementsByTagName(\"head\")[0].appendChild(s);\n",
       "}\n",
       "\n",
       "if(typeof(LDAvis) !== \"undefined\"){\n",
       "   // already loaded: just create the visualization\n",
       "   !function(LDAvis){\n",
       "       new LDAvis(\"#\" + \"ldavis_el97971403210140976247262034407\", ldavis_el97971403210140976247262034407_data);\n",
       "   }(LDAvis);\n",
       "}else if(typeof define === \"function\" && define.amd){\n",
       "   // require.js is available: use it to load d3/LDAvis\n",
       "   require.config({paths: {d3: \"https://cdnjs.cloudflare.com/ajax/libs/d3/3.5.5/d3.min\"}});\n",
       "   require([\"d3\"], function(d3){\n",
       "      window.d3 = d3;\n",
       "      LDAvis_load_lib(\"https://cdn.rawgit.com/bmabey/pyLDAvis/files/ldavis.v1.0.0.js\", function(){\n",
       "        new LDAvis(\"#\" + \"ldavis_el97971403210140976247262034407\", ldavis_el97971403210140976247262034407_data);\n",
       "      });\n",
       "    });\n",
       "}else{\n",
       "    // require.js not available: dynamically load d3 & LDAvis\n",
       "    LDAvis_load_lib(\"https://cdnjs.cloudflare.com/ajax/libs/d3/3.5.5/d3.min.js\", function(){\n",
       "         LDAvis_load_lib(\"https://cdn.rawgit.com/bmabey/pyLDAvis/files/ldavis.v1.0.0.js\", function(){\n",
       "                 new LDAvis(\"#\" + \"ldavis_el97971403210140976247262034407\", ldavis_el97971403210140976247262034407_data);\n",
       "            })\n",
       "         });\n",
       "}\n",
       "</script>"
      ],
      "text/plain": [
       "PreparedData(topic_coordinates=              x         y  topics  cluster       Freq\n",
       "topic                                                \n",
       "13    -0.412307  0.020040       1        1  15.573314\n",
       "7     -0.128775  0.029068       2        1   5.927447\n",
       "16    -0.027554 -0.110940       3        1   5.256465\n",
       "14    -0.008084 -0.089262       4        1   5.120751\n",
       "4      0.015089  0.160504       5        1   5.070335\n",
       "2      0.036795  0.359188       6        1   4.898608\n",
       "15     0.028787 -0.052957       7        1   4.643986\n",
       "19     0.019333  0.016390       8        1   4.597430\n",
       "18    -0.039104 -0.065854       9        1   4.570620\n",
       "10     0.044645 -0.031696      10        1   4.410382\n",
       "3      0.016386 -0.005550      11        1   4.337200\n",
       "6      0.039215 -0.076503      12        1   4.335672\n",
       "5      0.041104 -0.062989      13        1   4.251004\n",
       "9      0.078741 -0.019495      14        1   4.211429\n",
       "0      0.030832 -0.031079      15        1   4.043561\n",
       "11     0.014206 -0.065209      16        1   4.005229\n",
       "12     0.065024 -0.016892      17        1   3.868320\n",
       "17     0.067054 -0.021218      18        1   3.771629\n",
       "8      0.069751  0.053047      19        1   3.568681\n",
       "1      0.048860  0.011407      20        1   3.537927, topic_info=     Category          Freq        Term         Total  loglift  logprob\n",
       "term                                                                   \n",
       "44    Default  28414.000000   australia  28414.000000  30.0000  30.0000\n",
       "298   Default  28683.000000         man  28683.000000  29.0000  29.0000\n",
       "259   Default  25387.000000      police  25387.000000  28.0000  28.0000\n",
       "23    Default  22229.000000  australian  22229.000000  27.0000  27.0000\n",
       "439   Default  36417.000000         say  36417.000000  26.0000  26.0000\n",
       "413   Default  30071.000000         new  30071.000000  25.0000  25.0000\n",
       "2558  Default  16727.000000      sydney  16727.000000  24.0000  24.0000\n",
       "1250  Default  16828.000000        year  16828.000000  23.0000  23.0000\n",
       "233   Default  15256.000000       court  15256.000000  22.0000  22.0000\n",
       "11    Default  15652.000000        call  15652.000000  21.0000  21.0000\n",
       "2895  Default  14637.000000  government  14637.000000  20.0000  20.0000\n",
       "391   Default  15203.000000       woman  15203.000000  19.0000  19.0000\n",
       "348   Default  15197.000000      charge  15197.000000  18.0000  18.0000\n",
       "2369  Default  14802.000000  queensland  14802.000000  17.0000  17.0000\n",
       "9985  Default  13969.000000       trump  13969.000000  16.0000  16.0000\n",
       "1073  Default  14277.000000    election  14277.000000  15.0000  15.0000\n",
       "188   Default  13908.000000         nsw  13908.000000  14.0000  14.0000\n",
       "29    Default  12289.000000         win  12289.000000  13.0000  13.0000\n",
       "296   Default  13142.000000        find  13142.000000  12.0000  12.0000\n",
       "157   Default  12631.000000       death  12631.000000  11.0000  11.0000\n",
       "959   Default  13046.000000   melbourne  13046.000000  10.0000  10.0000\n",
       "920   Default  10920.000000       child  10920.000000   9.0000   9.0000\n",
       "1843  Default  11527.000000        test  11527.000000   8.0000   8.0000\n",
       "8     Default  12022.000000        fire  12022.000000   7.0000   7.0000\n",
       "2476  Default  11166.000000         ash  11166.000000   6.0000   6.0000\n",
       "55    Default  11263.000000        take  11263.000000   5.0000   5.0000\n",
       "326   Default  11189.000000      murder  11189.000000   4.0000   4.0000\n",
       "831   Default  10194.000000       could  10194.000000   3.0000   3.0000\n",
       "93    Default  10766.000000      attack  10766.000000   2.0000   2.0000\n",
       "191   Default  10126.000000         die  10126.000000   1.0000   1.0000\n",
       "...       ...           ...         ...           ...      ...      ...\n",
       "920   Topic20  10920.034180       child  10920.833984   3.3416  -2.8365\n",
       "975   Topic20   6548.459473         use   6549.258789   3.3415  -3.3479\n",
       "387   Topic20   5220.338867       young   5221.138184   3.3415  -3.5745\n",
       "5266  Topic20   4147.735352       story   4148.534668   3.3414  -3.8045\n",
       "163   Topic20   4084.523193        hold   4085.322510   3.3414  -3.8199\n",
       "806   Topic20   3427.890137        fear   3428.689453   3.3414  -3.9952\n",
       "1445  Topic20   3370.353027     cricket   3371.152344   3.3414  -4.0121\n",
       "1237  Topic20   3028.664062      debate   3029.463379   3.3414  -4.1190\n",
       "948   Topic20   2738.318115          pm   2739.117432   3.3413  -4.2198\n",
       "947   Topic20   2688.073975      crisis   2688.873291   3.3413  -4.2383\n",
       "2981  Topic20   2166.508057      secret   2167.307373   3.3413  -4.4540\n",
       "930   Topic20   2061.895508      terror   2062.694824   3.3412  -4.5035\n",
       "805   Topic20   1888.397339        club   1889.196777   3.3412  -4.5914\n",
       "2883  Topic20   1776.067383     foreign   1776.866821   3.3412  -4.6527\n",
       "1738  Topic20   1669.007446     missile   1669.806885   3.3412  -4.7149\n",
       "3408  Topic20   1613.737305    apologis   1614.536743   3.3411  -4.7485\n",
       "5312  Topic20   1589.599976       datum   1590.399414   3.3411  -4.7636\n",
       "2057  Topic20   1573.744385    pressure   1574.543823   3.3411  -4.7736\n",
       "1604  Topic20   1549.293945     comment   1550.093384   3.3411  -4.7893\n",
       "8641  Topic20   1497.215210   submarine   1498.014648   3.3411  -4.8235\n",
       "2042  Topic20   1464.258179      prompt   1465.057617   3.3411  -4.8457\n",
       "2800  Topic20   1387.875977      person   1388.675415   3.3411  -4.8993\n",
       "4217  Topic20   1387.454834      robert   1388.254272   3.3411  -4.8996\n",
       "1446  Topic20   1296.786011     funeral   1297.585449   3.3410  -4.9672\n",
       "7903  Topic20   1227.372803        jame   1228.172241   3.3410  -5.0222\n",
       "927   Topic20   1200.278931        dump   1201.078369   3.3410  -5.0445\n",
       "3294  Topic20   1191.696533        ever   1192.495972   3.3410  -5.0517\n",
       "4328  Topic20   1189.086792       human   1189.886230   3.3410  -5.0539\n",
       "2354  Topic20   1156.371948     private   1157.171387   3.3409  -5.0818\n",
       "3350  Topic20   1117.269775        base   1118.069214   3.3409  -5.1162\n",
       "\n",
       "[633 rows x 6 columns], token_table=       Topic      Freq        Term\n",
       "term                              \n",
       "5806      14  0.999283         abc\n",
       "350       17  0.999891  aboriginal\n",
       "2223       2  0.999786       abuse\n",
       "269       17  0.999408      access\n",
       "232       10  0.999960      accuse\n",
       "5         12  0.999887         act\n",
       "1097       6  0.999959    adelaide\n",
       "22        10  0.999483      affect\n",
       "604        1  0.999888         afl\n",
       "3617       3  0.999660         age\n",
       "56        11  0.999711       ahead\n",
       "49        17  0.999520         aid\n",
       "15         3  0.999498         air\n",
       "1008       6  0.999726     airport\n",
       "10649     18  0.999397   alexander\n",
       "2348       3  0.999845  allegation\n",
       "331        9  0.999730      allege\n",
       "1342      10  0.999665   allegedly\n",
       "996        6  0.999343       allow\n",
       "11399      4  0.999348      andrew\n",
       "225       15  0.999808    announce\n",
       "1887      17  0.999434   apartment\n",
       "3408      20  0.999668    apologis\n",
       "1000      18  0.999669      appeal\n",
       "312       12  0.999876      arrest\n",
       "78        18  0.999817      arrive\n",
       "263       13  0.999907         art\n",
       "4623      17  0.999488      artist\n",
       "2476      15  0.999952         ash\n",
       "1771       4  0.999709     assault\n",
       "...      ...       ...         ...\n",
       "48         2  0.999762         war\n",
       "374        9  0.999874        warn\n",
       "1489      17  0.999565     warning\n",
       "39        12  0.999851       waste\n",
       "2215       4  0.999455       watch\n",
       "68        16  0.999842       water\n",
       "734        2  0.999688     weather\n",
       "7710      13  0.999702     wedding\n",
       "1313      11  0.999810        week\n",
       "144       13  0.999498     welcome\n",
       "268       13  0.999841        west\n",
       "370        7  0.999797     western\n",
       "2826      19  0.999717       whale\n",
       "311       11  0.999806       white\n",
       "2781      10  0.999429        wife\n",
       "1091       3  0.999846        will\n",
       "29        18  0.999903         win\n",
       "2931      19  0.999704      winner\n",
       "391        6  0.999915       woman\n",
       "2274      12  0.999850       women\n",
       "227       15  0.999886        work\n",
       "890        2  0.999816      worker\n",
       "457        1  0.999974       world\n",
       "1063      14  0.999861       would\n",
       "6480       7  0.999500        wrap\n",
       "1250       8  0.999975        year\n",
       "2427      11  0.999753    year_old\n",
       "2239      16  0.999720        york\n",
       "387       20  0.999782       young\n",
       "128       18  0.999597       youth\n",
       "\n",
       "[617 rows x 3 columns], R=30, lambda_step=0.01, plot_opts={'xlab': 'PC1', 'ylab': 'PC2'}, topic_order=[14, 8, 17, 15, 5, 3, 16, 20, 19, 11, 4, 7, 6, 10, 1, 12, 13, 18, 9, 2])"
      ]
     },
     "execution_count": 17,
     "metadata": {},
     "output_type": "execute_result"
    }
   ],
   "source": [
    "# Visualize the topics\n",
    "pyLDAvis.enable_notebook()\n",
    "vis = pyLDAvis.gensim.prepare(lda_model, corpus, id2word)\n",
    "vis"
   ]
  },
  {
   "cell_type": "markdown",
   "metadata": {},
   "source": [
    "__Building LDA Mallet Model__\n",
    "\n",
    "The MALLET topic model package includes an extremely fast and highly scalable implementation of Gibbs sampling, efficient methods for document-topic hyperparameter optimization, and tools for inferring topics for new documents given trained models. "
   ]
  },
  {
   "cell_type": "code",
   "execution_count": 18,
   "metadata": {},
   "outputs": [],
   "source": [
    "# Download File: http://mallet.cs.umass.edu/dist/mallet-2.0.8.zip\n",
    "mallet_path = 'mallet-2.0.8/bin/mallet' # update this path\n",
    "ldamallet = gensim.models.wrappers.LdaMallet(mallet_path, corpus=corpus, num_topics=20, id2word=id2word)"
   ]
  },
  {
   "cell_type": "code",
   "execution_count": 19,
   "metadata": {},
   "outputs": [
    {
     "name": "stdout",
     "output_type": "stream",
     "text": [
      "[(11,\n",
      "  [('rise', 0.0337363869314542),\n",
      "   ('power', 0.028547405509288918),\n",
      "   ('job', 0.027486386931454197),\n",
      "   ('price', 0.02595691864189622),\n",
      "   ('mine', 0.024347373478539398),\n",
      "   ('rate', 0.021168321588725177),\n",
      "   ('cut', 0.019238468930172965),\n",
      "   ('fear', 0.016800128122998078),\n",
      "   ('mining', 0.016335682254964765),\n",
      "   ('cost', 0.015939301729660474)]),\n",
      " (19,\n",
      "  [('govt', 0.06652636042735814),\n",
      "   ('urge', 0.0510324680678967),\n",
      "   ('boost', 0.03185946340716426),\n",
      "   ('service', 0.03117232930607309),\n",
      "   ('government', 0.030618695544622487),\n",
      "   ('fund', 0.029833399429089726),\n",
      "   ('nt', 0.024721121716971425),\n",
      "   ('act', 0.02423031164476345),\n",
      "   ('indigenous', 0.024037914096457922),\n",
      "   ('budget', 0.021897982181631137)]),\n",
      " (3,\n",
      "  [('plan', 0.08121989345072894),\n",
      "   ('council', 0.06595128720451718),\n",
      "   ('water', 0.04817845407854021),\n",
      "   ('change', 0.035685233036654225),\n",
      "   ('back', 0.03469231505407216),\n",
      "   ('ban', 0.03275433055794813),\n",
      "   ('law', 0.025508820620793057),\n",
      "   ('push', 0.024507927393370977),\n",
      "   ('rule', 0.015675343733052606),\n",
      "   ('move', 0.013725396369668548)]),\n",
      " (15,\n",
      "  [('election', 0.03179928989555647),\n",
      "   ('national', 0.028818604577025612),\n",
      "   ('labor', 0.028109297108177358),\n",
      "   ('business', 0.02492139837178072),\n",
      "   ('green', 0.022518519699221754),\n",
      "   ('news', 0.01652128520137558),\n",
      "   ('launch', 0.01576017437806088),\n",
      "   ('vote', 0.015696416403332948),\n",
      "   ('campaign', 0.014664334187424537),\n",
      "   ('challenge', 0.013480826781537284)]),\n",
      " (17,\n",
      "  [('sydney', 0.03431933388978237),\n",
      "   ('year', 0.027874025365933103),\n",
      "   ('adelaide', 0.014975265161539872),\n",
      "   ('darwin', 0.014849046232772134),\n",
      "   ('brisbane', 0.014523319964984426),\n",
      "   ('award', 0.013664216933694347),\n",
      "   ('show', 0.012495673948005945),\n",
      "   ('canberra', 0.011815720363999103),\n",
      "   ('honour', 0.010777467885425785),\n",
      "   ('hobart', 0.01068382158343682)]),\n",
      " (1,\n",
      "  [('call', 0.05372839789229755),\n",
      "   ('delay', 0.019017633788746637),\n",
      "   ('qld', 0.018771980822691783),\n",
      "   ('group', 0.017858970632187908),\n",
      "   ('rain', 0.01669211904342735),\n",
      "   ('air', 0.01635229910705147),\n",
      "   ('nsw', 0.016213095759620384),\n",
      "   ('drought', 0.016008384954574673),\n",
      "   ('good', 0.013433123027099616),\n",
      "   ('action', 0.012495547539990257)]),\n",
      " (10,\n",
      "  [('australian', 0.03547588568567194),\n",
      "   ('high', 0.03185358978811386),\n",
      "   ('close', 0.02879664665048681),\n",
      "   ('market', 0.026656382630747922),\n",
      "   ('record', 0.02585277406484596),\n",
      "   ('qld', 0.023736739449104118),\n",
      "   ('fall', 0.021753966555346015),\n",
      "   ('china', 0.01945621140962634),\n",
      "   ('local', 0.018814132203704675),\n",
      "   ('rural', 0.01879394103370714)]),\n",
      " (9,\n",
      "  [('death', 0.05417987962723272),\n",
      "   ('road', 0.0304289088791095),\n",
      "   ('work', 0.0226912373802744),\n",
      "   ('begin', 0.01898621537665027),\n",
      "   ('safety', 0.01736425705410303),\n",
      "   ('spark', 0.016494628527051514),\n",
      "   ('rescue', 0.015418716023815688),\n",
      "   ('rail', 0.014917162826818535),\n",
      "   ('dog', 0.012923084390370179),\n",
      "   ('save', 0.01187548537406161)]),\n",
      " (4,\n",
      "  [('south', 0.028542629560428755),\n",
      "   ('end', 0.026567672993083553),\n",
      "   ('top', 0.025772773461828432),\n",
      "   ('return', 0.02141721572098207),\n",
      "   ('queensland', 0.021282000852263415),\n",
      "   ('home', 0.021130396302487954),\n",
      "   ('head', 0.021015668535090307),\n",
      "   ('west', 0.020564952306028124),\n",
      "   ('north', 0.02008555413511653),\n",
      "   ('leave', 0.019970826367718884)]),\n",
      " (13,\n",
      "  [('man', 0.11635051949441041),\n",
      "   ('charge', 0.06878275654762124),\n",
      "   ('court', 0.06013742535840873),\n",
      "   ('face', 0.048633676220544465),\n",
      "   ('murder', 0.03684224114720299),\n",
      "   ('jail', 0.03346377554595783),\n",
      "   ('accuse', 0.03332362085944329),\n",
      "   ('trial', 0.025950746692533812),\n",
      "   ('drug', 0.02587329278682841),\n",
      "   ('arrest', 0.02134777172489848)])]\n",
      "\n",
      "Coherence Score:  0.34097655036086116\n"
     ]
    }
   ],
   "source": [
    "# Show Topics\n",
    "pprint(ldamallet.show_topics(formatted=False))\n",
    "\n",
    "# Compute Coherence Score\n",
    "coherence_model_ldamallet = CoherenceModel(model=ldamallet, texts=data_lemmatized, dictionary=id2word, coherence='c_v')\n",
    "coherence_ldamallet = coherence_model_ldamallet.get_coherence()\n",
    "print('\\nCoherence Score: ', coherence_ldamallet)"
   ]
  },
  {
   "cell_type": "markdown",
   "metadata": {},
   "source": [
    "__How to find the optimal number of topics for LDA?__"
   ]
  },
  {
   "cell_type": "markdown",
   "metadata": {},
   "source": [
    "My approach to finding the optimal number of topics is to build many LDA models with different values of number of topics (k) and pick the one that gives the highest coherence value.\n",
    "\n",
    "Choosing a ‘k’ that marks the end of a rapid growth of topic coherence usually offers meaningful and interpretable topics. Picking an even higher value can sometimes provide more granular sub-topics.\n",
    "\n",
    "If you see the same keywords being repeated in multiple topics, it’s probably a sign that the ‘k’ is too large.\n",
    "\n",
    "The compute_coherence_values() (see below) trains multiple LDA models and provides the models and their corresponding coherence scores."
   ]
  },
  {
   "cell_type": "code",
   "execution_count": 20,
   "metadata": {},
   "outputs": [],
   "source": [
    "def compute_coherence_values(dictionary, corpus, texts, limit, start=2, step=3):\n",
    "    \"\"\"\n",
    "    Compute c_v coherence for various number of topics\n",
    "\n",
    "    Parameters:\n",
    "    ----------\n",
    "    dictionary : Gensim dictionary\n",
    "    corpus : Gensim corpus\n",
    "    texts : List of input texts\n",
    "    limit : Max num of topics\n",
    "\n",
    "    Returns:\n",
    "    -------\n",
    "    model_list : List of LDA topic models\n",
    "    coherence_values : Coherence values corresponding to the LDA model with respective number of topics\n",
    "    \"\"\"\n",
    "    coherence_values = []\n",
    "    model_list = []\n",
    "    for num_topics in range(start, limit, step):\n",
    "        model = gensim.models.wrappers.LdaMallet(mallet_path, corpus=corpus, num_topics=num_topics, id2word=id2word)\n",
    "        model_list.append(model)\n",
    "        coherencemodel = CoherenceModel(model=model, texts=texts, dictionary=dictionary, coherence='c_v')\n",
    "        coherence_values.append(coherencemodel.get_coherence())\n",
    "\n",
    "    return model_list, coherence_values"
   ]
  },
  {
   "cell_type": "code",
   "execution_count": 21,
   "metadata": {},
   "outputs": [],
   "source": [
    "# Can take a long time to run.\n",
    "model_list, coherence_values = compute_coherence_values(dictionary=id2word, corpus=corpus, texts=data_lemmatized, start=2, limit=40, step=6)"
   ]
  },
  {
   "cell_type": "code",
   "execution_count": 22,
   "metadata": {},
   "outputs": [
    {
     "data": {
      "image/png": "[encoded data removed]",
      "text/plain": [
       "<Figure size 432x288 with 1 Axes>"
      ]
     },
     "metadata": {},
     "output_type": "display_data"
    }
   ],
   "source": [
    "# Show graph\n",
    "limit=40; start=2; step=6;\n",
    "x = range(start, limit, step)\n",
    "plt.plot(x, coherence_values)\n",
    "plt.xlabel(\"Num Topics\")\n",
    "plt.ylabel(\"Coherence score\")\n",
    "plt.legend((\"coherence_values\"), loc='best')\n",
    "plt.show()"
   ]
  },
  {
   "cell_type": "code",
   "execution_count": 23,
   "metadata": {},
   "outputs": [
    {
     "name": "stdout",
     "output_type": "stream",
     "text": [
      "Num Topics = 2  has Coherence Value of 0.2752\n",
      "Num Topics = 8  has Coherence Value of 0.2602\n",
      "Num Topics = 14  has Coherence Value of 0.3266\n",
      "Num Topics = 20  has Coherence Value of 0.3461\n",
      "Num Topics = 26  has Coherence Value of 0.3701\n",
      "Num Topics = 32  has Coherence Value of 0.3824\n",
      "Num Topics = 38  has Coherence Value of 0.383\n"
     ]
    }
   ],
   "source": [
    "# Print the coherence scores\n",
    "for m, cv in zip(x, coherence_values):\n",
    "    print(\"Num Topics =\", m, \" has Coherence Value of\", round(cv, 4))"
   ]
  },
  {
   "cell_type": "code",
   "execution_count": 24,
   "metadata": {
    "scrolled": true
   },
   "outputs": [
    {
     "name": "stdout",
     "output_type": "stream",
     "text": [
      "[(0,\n",
      "  '0.032*\"farmer\" + 0.026*\"price\" + 0.023*\"china\" + 0.023*\"deal\" + '\n",
      "  '0.022*\"industry\" + 0.015*\"company\" + 0.014*\"farm\" + 0.013*\"demand\" + '\n",
      "  '0.012*\"sale\" + 0.012*\"gas\"'),\n",
      " (1,\n",
      "  '0.038*\"hospital\" + 0.034*\"boost\" + 0.034*\"health\" + 0.032*\"service\" + '\n",
      "  '0.030*\"fund\" + 0.028*\"govt\" + 0.025*\"urge\" + 0.025*\"indigenous\" + '\n",
      "  '0.023*\"government\" + 0.022*\"budget\"'),\n",
      " (2,\n",
      "  '0.051*\"plan\" + 0.040*\"govt\" + 0.029*\"power\" + 0.025*\"nt\" + 0.025*\"mine\" + '\n",
      "  '0.020*\"vic\" + 0.017*\"tas\" + 0.017*\"decision\" + 0.016*\"station\" + '\n",
      "  '0.015*\"rail\"'),\n",
      " (3,\n",
      "  '0.117*\"man\" + 0.069*\"charge\" + 0.061*\"court\" + 0.049*\"face\" + '\n",
      "  '0.037*\"murder\" + 0.034*\"jail\" + 0.034*\"accuse\" + 0.028*\"drug\" + '\n",
      "  '0.027*\"woman\" + 0.027*\"arrest\"'),\n",
      " (4,\n",
      "  '0.067*\"fire\" + 0.030*\"warn\" + 0.026*\"home\" + 0.023*\"fear\" + 0.023*\"house\" + '\n",
      "  '0.017*\"spark\" + 0.017*\"bushfire\" + 0.016*\"threat\" + 0.016*\"blaze\" + '\n",
      "  '0.016*\"school\"'),\n",
      " (5,\n",
      "  '0.043*\"qld\" + 0.040*\"nsw\" + 0.028*\"south\" + 0.028*\"hit\" + 0.027*\"flood\" + '\n",
      "  '0.021*\"queensland\" + 0.020*\"west\" + 0.020*\"north\" + 0.018*\"coast\" + '\n",
      "  '0.017*\"continue\"'),\n",
      " (6,\n",
      "  '0.054*\"kill\" + 0.043*\"attack\" + 0.022*\"iraq\" + 0.013*\"war\" + 0.013*\"blast\" '\n",
      "  '+ 0.011*\"pakistan\" + 0.011*\"visit\" + 0.011*\"soldier\" + 0.010*\"bomb\" + '\n",
      "  '0.010*\"president\"'),\n",
      " (7,\n",
      "  '0.032*\"election\" + 0.032*\"call\" + 0.028*\"labor\" + 0.024*\"pm\" + '\n",
      "  '0.020*\"minister\" + 0.016*\"meet\" + 0.013*\"party\" + 0.013*\"future\" + '\n",
      "  '0.013*\"chief\" + 0.013*\"rule\"'),\n",
      " (8,\n",
      "  '0.049*\"water\" + 0.033*\"ban\" + 0.029*\"work\" + 0.022*\"fight\" + 0.019*\"begin\" '\n",
      "  '+ 0.018*\"give\" + 0.018*\"study\" + 0.014*\"link\" + 0.013*\"risk\" + '\n",
      "  '0.013*\"stop\"'),\n",
      " (9,\n",
      "  '0.055*\"find\" + 0.038*\"miss\" + 0.025*\"family\" + 0.024*\"victim\" + '\n",
      "  '0.024*\"search\" + 0.020*\"leave\" + 0.017*\"dead\" + 0.017*\"body\" + '\n",
      "  '0.015*\"rescue\" + 0.014*\"continue\"'),\n",
      " (10,\n",
      "  '0.067*\"council\" + 0.041*\"back\" + 0.036*\"change\" + 0.033*\"group\" + '\n",
      "  '0.031*\"plan\" + 0.029*\"seek\" + 0.027*\"push\" + 0.024*\"green\" + 0.023*\"call\" + '\n",
      "  '0.021*\"support\"'),\n",
      " (11,\n",
      "  '0.034*\"rise\" + 0.031*\"worker\" + 0.028*\"job\" + 0.026*\"union\" + 0.024*\"pay\" + '\n",
      "  '0.023*\"cut\" + 0.021*\"rate\" + 0.021*\"offer\" + 0.019*\"report\" + '\n",
      "  '0.016*\"mining\"'),\n",
      " (12,\n",
      "  '0.034*\"open\" + 0.022*\"final\" + 0.018*\"return\" + 0.017*\"lose\" + 0.014*\"afl\" '\n",
      "  '+ 0.013*\"clash\" + 0.013*\"tiger\" + 0.012*\"play\" + 0.011*\"stay\" + '\n",
      "  '0.011*\"blue\"'),\n",
      " (13,\n",
      "  '0.057*\"win\" + 0.033*\"world\" + 0.025*\"australia\" + 0.023*\"test\" + '\n",
      "  '0.023*\"cup\" + 0.020*\"aussie\" + 0.020*\"lead\" + 0.014*\"tour\" + '\n",
      "  '0.014*\"england\" + 0.013*\"india\"'),\n",
      " (14,\n",
      "  '0.042*\"sydney\" + 0.028*\"melbourne\" + 0.026*\"show\" + 0.020*\"adelaide\" + '\n",
      "  '0.017*\"brisbane\" + 0.014*\"race\" + 0.013*\"city\" + 0.012*\"turn\" + '\n",
      "  '0.012*\"canberra\" + 0.011*\"club\"'),\n",
      " (15,\n",
      "  '0.065*\"interview\" + 0.029*\"talk\" + 0.015*\"speak\" + 0.009*\"mark\" + '\n",
      "  '0.009*\"pacific\" + 0.008*\"late\" + 0.008*\"great\" + 0.008*\"king\" + 0.007*\"sea\" '\n",
      "  '+ 0.007*\"island\"'),\n",
      " (16,\n",
      "  '0.035*\"make\" + 0.030*\"national\" + 0.028*\"rural\" + 0.026*\"business\" + '\n",
      "  '0.023*\"good\" + 0.021*\"big\" + 0.017*\"set\" + 0.017*\"news\" + 0.016*\"launch\" + '\n",
      "  '0.014*\"award\"'),\n",
      " (17,\n",
      "  '0.040*\"claim\" + 0.035*\"child\" + 0.030*\"report\" + 0.026*\"case\" + '\n",
      "  '0.021*\"inquiry\" + 0.021*\"appeal\" + 0.020*\"release\" + 0.019*\"deny\" + '\n",
      "  '0.019*\"reject\" + 0.017*\"bid\"'),\n",
      " (18,\n",
      "  '0.140*\"police\" + 0.051*\"crash\" + 0.041*\"death\" + 0.036*\"car\" + 0.034*\"die\" '\n",
      "  '+ 0.029*\"road\" + 0.026*\"probe\" + 0.022*\"driver\" + 0.019*\"run\" + '\n",
      "  '0.018*\"woman\"'),\n",
      " (19,\n",
      "  '0.050*\"australian\" + 0.036*\"year\" + 0.036*\"day\" + 0.030*\"australia\" + '\n",
      "  '0.029*\"close\" + 0.027*\"market\" + 0.026*\"end\" + 0.025*\"high\" + 0.021*\"fall\" '\n",
      "  '+ 0.019*\"record\"')]\n"
     ]
    }
   ],
   "source": [
    "# Select the model and print the topics\n",
    "optimal_model = model_list[3]\n",
    "model_topics = optimal_model.show_topics(formatted=False)\n",
    "pprint(optimal_model.print_topics(num_words=10))"
   ]
  },
  {
   "cell_type": "markdown",
   "metadata": {},
   "source": [
    "__Finding the dominant topic in each sentence__"
   ]
  },
  {
   "cell_type": "code",
   "execution_count": 25,
   "metadata": {
    "scrolled": true
   },
   "outputs": [
    {
     "data": {
      "text/html": [
       "<div>\n",
       "<style scoped>\n",
       "    .dataframe tbody tr th:only-of-type {\n",
       "        vertical-align: middle;\n",
       "    }\n",
       "\n",
       "    .dataframe tbody tr th {\n",
       "        vertical-align: top;\n",
       "    }\n",
       "\n",
       "    .dataframe thead th {\n",
       "        text-align: right;\n",
       "    }\n",
       "</style>\n",
       "<table border=\"1\" class=\"dataframe\">\n",
       "  <thead>\n",
       "    <tr style=\"text-align: right;\">\n",
       "      <th></th>\n",
       "      <th>Document_No</th>\n",
       "      <th>Dominant_Topic</th>\n",
       "      <th>Topic_Perc_Contrib</th>\n",
       "      <th>Keywords</th>\n",
       "      <th>Text</th>\n",
       "    </tr>\n",
       "  </thead>\n",
       "  <tbody>\n",
       "    <tr>\n",
       "      <th>0</th>\n",
       "      <td>0</td>\n",
       "      <td>2.0</td>\n",
       "      <td>0.0778</td>\n",
       "      <td>plan, govt, power, nt, mine, vic, tas, decisio...</td>\n",
       "      <td>aba decides against community broadcasting lic...</td>\n",
       "    </tr>\n",
       "    <tr>\n",
       "      <th>1</th>\n",
       "      <td>1</td>\n",
       "      <td>4.0</td>\n",
       "      <td>0.0737</td>\n",
       "      <td>fire, warn, home, fear, house, spark, bushfire...</td>\n",
       "      <td>act fire witnesses must be aware of defamation</td>\n",
       "    </tr>\n",
       "    <tr>\n",
       "      <th>2</th>\n",
       "      <td>2</td>\n",
       "      <td>1.0</td>\n",
       "      <td>0.0730</td>\n",
       "      <td>hospital, boost, health, service, fund, govt, ...</td>\n",
       "      <td>a g calls for infrastructure protection summit</td>\n",
       "    </tr>\n",
       "    <tr>\n",
       "      <th>3</th>\n",
       "      <td>3</td>\n",
       "      <td>11.0</td>\n",
       "      <td>0.1101</td>\n",
       "      <td>rise, worker, job, union, pay, cut, rate, offe...</td>\n",
       "      <td>air nz staff in aust strike for pay rise</td>\n",
       "    </tr>\n",
       "    <tr>\n",
       "      <th>4</th>\n",
       "      <td>4</td>\n",
       "      <td>4.0</td>\n",
       "      <td>0.0804</td>\n",
       "      <td>fire, warn, home, fear, house, spark, bushfire...</td>\n",
       "      <td>air nz strike to affect australian travellers</td>\n",
       "    </tr>\n",
       "    <tr>\n",
       "      <th>5</th>\n",
       "      <td>5</td>\n",
       "      <td>4.0</td>\n",
       "      <td>0.0697</td>\n",
       "      <td>fire, warn, home, fear, house, spark, bushfire...</td>\n",
       "      <td>ambitious olsson wins triple jump</td>\n",
       "    </tr>\n",
       "    <tr>\n",
       "      <th>6</th>\n",
       "      <td>6</td>\n",
       "      <td>13.0</td>\n",
       "      <td>0.0998</td>\n",
       "      <td>win, world, australia, test, cup, aussie, lead...</td>\n",
       "      <td>antic delighted with record breaking barca</td>\n",
       "    </tr>\n",
       "    <tr>\n",
       "      <th>7</th>\n",
       "      <td>7</td>\n",
       "      <td>12.0</td>\n",
       "      <td>0.0982</td>\n",
       "      <td>open, final, return, lose, afl, clash, tiger, ...</td>\n",
       "      <td>aussie qualifier stosur wastes four memphis match</td>\n",
       "    </tr>\n",
       "    <tr>\n",
       "      <th>8</th>\n",
       "      <td>8</td>\n",
       "      <td>6.0</td>\n",
       "      <td>0.0778</td>\n",
       "      <td>kill, attack, iraq, war, blast, pakistan, visi...</td>\n",
       "      <td>aust addresses un security council over iraq</td>\n",
       "    </tr>\n",
       "    <tr>\n",
       "      <th>9</th>\n",
       "      <td>9</td>\n",
       "      <td>2.0</td>\n",
       "      <td>0.0636</td>\n",
       "      <td>plan, govt, power, nt, mine, vic, tas, decisio...</td>\n",
       "      <td>australia is locked into war timetable opp</td>\n",
       "    </tr>\n",
       "  </tbody>\n",
       "</table>\n",
       "</div>"
      ],
      "text/plain": [
       "   Document_No  Dominant_Topic  Topic_Perc_Contrib  \\\n",
       "0            0             2.0              0.0778   \n",
       "1            1             4.0              0.0737   \n",
       "2            2             1.0              0.0730   \n",
       "3            3            11.0              0.1101   \n",
       "4            4             4.0              0.0804   \n",
       "5            5             4.0              0.0697   \n",
       "6            6            13.0              0.0998   \n",
       "7            7            12.0              0.0982   \n",
       "8            8             6.0              0.0778   \n",
       "9            9             2.0              0.0636   \n",
       "\n",
       "                                            Keywords  \\\n",
       "0  plan, govt, power, nt, mine, vic, tas, decisio...   \n",
       "1  fire, warn, home, fear, house, spark, bushfire...   \n",
       "2  hospital, boost, health, service, fund, govt, ...   \n",
       "3  rise, worker, job, union, pay, cut, rate, offe...   \n",
       "4  fire, warn, home, fear, house, spark, bushfire...   \n",
       "5  fire, warn, home, fear, house, spark, bushfire...   \n",
       "6  win, world, australia, test, cup, aussie, lead...   \n",
       "7  open, final, return, lose, afl, clash, tiger, ...   \n",
       "8  kill, attack, iraq, war, blast, pakistan, visi...   \n",
       "9  plan, govt, power, nt, mine, vic, tas, decisio...   \n",
       "\n",
       "                                                Text  \n",
       "0  aba decides against community broadcasting lic...  \n",
       "1     act fire witnesses must be aware of defamation  \n",
       "2     a g calls for infrastructure protection summit  \n",
       "3           air nz staff in aust strike for pay rise  \n",
       "4      air nz strike to affect australian travellers  \n",
       "5                  ambitious olsson wins triple jump  \n",
       "6         antic delighted with record breaking barca  \n",
       "7  aussie qualifier stosur wastes four memphis match  \n",
       "8       aust addresses un security council over iraq  \n",
       "9         australia is locked into war timetable opp  "
      ]
     },
     "execution_count": 25,
     "metadata": {},
     "output_type": "execute_result"
    }
   ],
   "source": [
    "def format_topics_sentences(ldamodel=lda_model, corpus=corpus, texts=data):\n",
    "    # Init output\n",
    "    sent_topics_df = pd.DataFrame()\n",
    "\n",
    "    # Get main topic in each document\n",
    "    for i, row in enumerate(ldamodel[corpus]):\n",
    "        row = sorted(row, key=lambda x: (x[1]), reverse=True)\n",
    "        # Get the Dominant topic, Perc Contribution and Keywords for each document\n",
    "        for j, (topic_num, prop_topic) in enumerate(row):\n",
    "            if j == 0:  # => dominant topic\n",
    "                wp = ldamodel.show_topic(topic_num)\n",
    "                topic_keywords = \", \".join([word for word, prop in wp])\n",
    "                sent_topics_df = sent_topics_df.append(pd.Series([int(topic_num), round(prop_topic,4), topic_keywords]), ignore_index=True)\n",
    "            else:\n",
    "                break\n",
    "    sent_topics_df.columns = ['Dominant_Topic', 'Perc_Contribution', 'Topic_Keywords']\n",
    "\n",
    "    # Add original text to the end of the output\n",
    "    contents = pd.Series(texts)\n",
    "    sent_topics_df = pd.concat([sent_topics_df, contents], axis=1)\n",
    "    return(sent_topics_df)\n",
    "\n",
    "\n",
    "df_topic_sents_keywords = format_topics_sentences(ldamodel=optimal_model, corpus=corpus, texts=data)\n",
    "\n",
    "# Format\n",
    "df_dominant_topic = df_topic_sents_keywords.reset_index()\n",
    "df_dominant_topic.columns = ['Document_No', 'Dominant_Topic', 'Topic_Perc_Contrib', 'Keywords', 'Text']\n",
    "\n",
    "# Show\n",
    "df_dominant_topic.head(10)"
   ]
  },
  {
   "cell_type": "code",
   "execution_count": 26,
   "metadata": {},
   "outputs": [
    {
     "data": {
      "text/plain": [
       "(1103665, 5)"
      ]
     },
     "execution_count": 26,
     "metadata": {},
     "output_type": "execute_result"
    }
   ],
   "source": [
    "df_dominant_topic.shape"
   ]
  },
  {
   "cell_type": "markdown",
   "metadata": {},
   "source": [
    "__Find the most representative document for each topic__"
   ]
  },
  {
   "cell_type": "code",
   "execution_count": 28,
   "metadata": {},
   "outputs": [
    {
     "data": {
      "text/html": [
       "<div>\n",
       "<style scoped>\n",
       "    .dataframe tbody tr th:only-of-type {\n",
       "        vertical-align: middle;\n",
       "    }\n",
       "\n",
       "    .dataframe tbody tr th {\n",
       "        vertical-align: top;\n",
       "    }\n",
       "\n",
       "    .dataframe thead th {\n",
       "        text-align: right;\n",
       "    }\n",
       "</style>\n",
       "<table border=\"1\" class=\"dataframe\">\n",
       "  <thead>\n",
       "    <tr style=\"text-align: right;\">\n",
       "      <th></th>\n",
       "      <th>Topic_Num</th>\n",
       "      <th>Topic_Perc_Contrib</th>\n",
       "      <th>Keywords</th>\n",
       "      <th>Text</th>\n",
       "    </tr>\n",
       "  </thead>\n",
       "  <tbody>\n",
       "    <tr>\n",
       "      <th>0</th>\n",
       "      <td>0.0</td>\n",
       "      <td>0.1791</td>\n",
       "      <td>farmer, price, china, deal, industry, company,...</td>\n",
       "      <td>glyphosate herbicide crops grain weeds livesto...</td>\n",
       "    </tr>\n",
       "    <tr>\n",
       "      <th>1</th>\n",
       "      <td>1.0</td>\n",
       "      <td>0.1518</td>\n",
       "      <td>hospital, boost, health, service, fund, govt, ...</td>\n",
       "      <td>hospitals to receive extra emergency ward funding</td>\n",
       "    </tr>\n",
       "    <tr>\n",
       "      <th>2</th>\n",
       "      <td>2.0</td>\n",
       "      <td>0.1647</td>\n",
       "      <td>plan, govt, power, nt, mine, vic, tas, decisio...</td>\n",
       "      <td>springsure creek coal mine plan gets environme...</td>\n",
       "    </tr>\n",
       "    <tr>\n",
       "      <th>3</th>\n",
       "      <td>3.0</td>\n",
       "      <td>0.1667</td>\n",
       "      <td>man, charge, court, face, murder, jail, accuse...</td>\n",
       "      <td>jury acquits man accused of ivy nightclub rape</td>\n",
       "    </tr>\n",
       "    <tr>\n",
       "      <th>4</th>\n",
       "      <td>4.0</td>\n",
       "      <td>0.1647</td>\n",
       "      <td>fire, warn, home, fear, house, spark, bushfire...</td>\n",
       "      <td>fire retardant foam engulfs californian airpor...</td>\n",
       "    </tr>\n",
       "  </tbody>\n",
       "</table>\n",
       "</div>"
      ],
      "text/plain": [
       "   Topic_Num  Topic_Perc_Contrib  \\\n",
       "0        0.0              0.1791   \n",
       "1        1.0              0.1518   \n",
       "2        2.0              0.1647   \n",
       "3        3.0              0.1667   \n",
       "4        4.0              0.1647   \n",
       "\n",
       "                                            Keywords  \\\n",
       "0  farmer, price, china, deal, industry, company,...   \n",
       "1  hospital, boost, health, service, fund, govt, ...   \n",
       "2  plan, govt, power, nt, mine, vic, tas, decisio...   \n",
       "3  man, charge, court, face, murder, jail, accuse...   \n",
       "4  fire, warn, home, fear, house, spark, bushfire...   \n",
       "\n",
       "                                                Text  \n",
       "0  glyphosate herbicide crops grain weeds livesto...  \n",
       "1  hospitals to receive extra emergency ward funding  \n",
       "2  springsure creek coal mine plan gets environme...  \n",
       "3     jury acquits man accused of ivy nightclub rape  \n",
       "4  fire retardant foam engulfs californian airpor...  "
      ]
     },
     "execution_count": 28,
     "metadata": {},
     "output_type": "execute_result"
    }
   ],
   "source": [
    "# Group top 5 sentences under each topic\n",
    "sent_topics_sorteddf_mallet = pd.DataFrame()\n",
    "\n",
    "sent_topics_outdf_grpd = df_topic_sents_keywords.groupby('Dominant_Topic')\n",
    "\n",
    "for i, grp in sent_topics_outdf_grpd:\n",
    "    sent_topics_sorteddf_mallet = pd.concat([sent_topics_sorteddf_mallet, \n",
    "                                             grp.sort_values(['Perc_Contribution'], ascending=[0]).head(1)], \n",
    "                                            axis=0)\n",
    "\n",
    "# Reset Index    \n",
    "sent_topics_sorteddf_mallet.reset_index(drop=True, inplace=True)\n",
    "\n",
    "# Format\n",
    "sent_topics_sorteddf_mallet.columns = ['Topic_Num', \"Topic_Perc_Contrib\", \"Keywords\", \"Text\"]\n",
    "\n",
    "# Show\n",
    "sent_topics_sorteddf_mallet.head()"
   ]
  },
  {
   "cell_type": "markdown",
   "metadata": {},
   "source": [
    "__Topic distribution across documents__"
   ]
  },
  {
   "cell_type": "code",
   "execution_count": 29,
   "metadata": {},
   "outputs": [
    {
     "data": {
      "text/html": [
       "<div>\n",
       "<style scoped>\n",
       "    .dataframe tbody tr th:only-of-type {\n",
       "        vertical-align: middle;\n",
       "    }\n",
       "\n",
       "    .dataframe tbody tr th {\n",
       "        vertical-align: top;\n",
       "    }\n",
       "\n",
       "    .dataframe thead th {\n",
       "        text-align: right;\n",
       "    }\n",
       "</style>\n",
       "<table border=\"1\" class=\"dataframe\">\n",
       "  <thead>\n",
       "    <tr style=\"text-align: right;\">\n",
       "      <th></th>\n",
       "      <th>Dominant_Topic</th>\n",
       "      <th>Topic_Keywords</th>\n",
       "      <th>Num_Documents</th>\n",
       "      <th>Perc_Documents</th>\n",
       "    </tr>\n",
       "  </thead>\n",
       "  <tbody>\n",
       "    <tr>\n",
       "      <th>0</th>\n",
       "      <td>2.0</td>\n",
       "      <td>plan, govt, power, nt, mine, vic, tas, decisio...</td>\n",
       "      <td>80643.0</td>\n",
       "      <td>0.0731</td>\n",
       "    </tr>\n",
       "    <tr>\n",
       "      <th>1</th>\n",
       "      <td>4.0</td>\n",
       "      <td>fire, warn, home, fear, house, spark, bushfire...</td>\n",
       "      <td>71120.0</td>\n",
       "      <td>0.0644</td>\n",
       "    </tr>\n",
       "    <tr>\n",
       "      <th>2</th>\n",
       "      <td>1.0</td>\n",
       "      <td>hospital, boost, health, service, fund, govt, ...</td>\n",
       "      <td>62728.0</td>\n",
       "      <td>0.0568</td>\n",
       "    </tr>\n",
       "    <tr>\n",
       "      <th>3</th>\n",
       "      <td>11.0</td>\n",
       "      <td>rise, worker, job, union, pay, cut, rate, offe...</td>\n",
       "      <td>78086.0</td>\n",
       "      <td>0.0708</td>\n",
       "    </tr>\n",
       "    <tr>\n",
       "      <th>4</th>\n",
       "      <td>4.0</td>\n",
       "      <td>fire, warn, home, fear, house, spark, bushfire...</td>\n",
       "      <td>55763.0</td>\n",
       "      <td>0.0505</td>\n",
       "    </tr>\n",
       "  </tbody>\n",
       "</table>\n",
       "</div>"
      ],
      "text/plain": [
       "   Dominant_Topic                                     Topic_Keywords  \\\n",
       "0             2.0  plan, govt, power, nt, mine, vic, tas, decisio...   \n",
       "1             4.0  fire, warn, home, fear, house, spark, bushfire...   \n",
       "2             1.0  hospital, boost, health, service, fund, govt, ...   \n",
       "3            11.0  rise, worker, job, union, pay, cut, rate, offe...   \n",
       "4             4.0  fire, warn, home, fear, house, spark, bushfire...   \n",
       "\n",
       "   Num_Documents  Perc_Documents  \n",
       "0        80643.0          0.0731  \n",
       "1        71120.0          0.0644  \n",
       "2        62728.0          0.0568  \n",
       "3        78086.0          0.0708  \n",
       "4        55763.0          0.0505  "
      ]
     },
     "execution_count": 29,
     "metadata": {},
     "output_type": "execute_result"
    }
   ],
   "source": [
    "# Number of Documents for Each Topic\n",
    "topic_counts = df_topic_sents_keywords['Dominant_Topic'].value_counts()\n",
    "\n",
    "# Percentage of Documents for Each Topic\n",
    "topic_contribution = round(topic_counts/topic_counts.sum(), 4)\n",
    "\n",
    "# Topic Number and Keywords\n",
    "topic_num_keywords = df_topic_sents_keywords[['Dominant_Topic', 'Topic_Keywords']]\n",
    "\n",
    "# Concatenate Column wise\n",
    "df_dominant_topics = pd.concat([topic_num_keywords, topic_counts, topic_contribution], axis=1)\n",
    "\n",
    "# Change Column names\n",
    "df_dominant_topics.columns = ['Dominant_Topic', 'Topic_Keywords', 'Num_Documents', 'Perc_Documents']\n",
    "\n",
    "# Show\n",
    "df_dominant_topics.head()"
   ]
  },
  {
   "cell_type": "code",
   "execution_count": null,
   "metadata": {},
   "outputs": [],
   "source": []
  },
  {
   "cell_type": "code",
   "execution_count": null,
   "metadata": {},
   "outputs": [],
   "source": []
  }
 ],
 "metadata": {
  "kernelspec": {
   "display_name": "Python 3",
   "language": "python",
   "name": "python3"
  },
  "language_info": {
   "codemirror_mode": {
    "name": "ipython",
    "version": 3
   },
   "file_extension": ".py",
   "mimetype": "text/x-python",
   "name": "python",
   "nbconvert_exporter": "python",
   "pygments_lexer": "ipython3",
   "version": "3.6.6"
  }
 },
 "nbformat": 4,
 "nbformat_minor": 2
}
